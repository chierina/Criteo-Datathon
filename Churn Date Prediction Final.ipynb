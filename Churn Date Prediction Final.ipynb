{
 "cells": [
  {
   "cell_type": "code",
   "execution_count": 1,
   "metadata": {},
   "outputs": [],
   "source": [
    "import pandas as pd\n",
    "import numpy as np\n",
    "import xgboost as xgb\n",
    "from sklearn import preprocessing\n",
    "import pickle\n",
    "from sklearn.metrics import mean_squared_error, accuracy_score, confusion_matrix, classification_report, auc, roc_curve, f1_score\n",
    "from sklearn.model_selection import cross_val_score, RandomizedSearchCV,GridSearchCV\n",
    "from scipy import stats\n",
    "from scipy.stats import norm\n",
    "from statsmodels.formula.api import ols"
   ]
  },
  {
   "cell_type": "code",
   "execution_count": 2,
   "metadata": {},
   "outputs": [],
   "source": [
    "df = pd.read_csv('/Users/naitochieri/Desktop/Hackathon/Datasets/combined.csv', dtype = object)"
   ]
  },
  {
   "cell_type": "code",
   "execution_count": 3,
   "metadata": {},
   "outputs": [
    {
     "data": {
      "text/html": [
       "<div>\n",
       "<style scoped>\n",
       "    .dataframe tbody tr th:only-of-type {\n",
       "        vertical-align: middle;\n",
       "    }\n",
       "\n",
       "    .dataframe tbody tr th {\n",
       "        vertical-align: top;\n",
       "    }\n",
       "\n",
       "    .dataframe thead th {\n",
       "        text-align: right;\n",
       "    }\n",
       "</style>\n",
       "<table border=\"1\" class=\"dataframe\">\n",
       "  <thead>\n",
       "    <tr style=\"text-align: right;\">\n",
       "      <th></th>\n",
       "      <th>Unnamed: 0</th>\n",
       "      <th>index</th>\n",
       "      <th>Unnamed: 0.1</th>\n",
       "      <th>Unnamed: 0.1.1</th>\n",
       "      <th>account_id_x</th>\n",
       "      <th>vertical</th>\n",
       "      <th>industry</th>\n",
       "      <th>client_country</th>\n",
       "      <th>unique_client</th>\n",
       "      <th>client_continent</th>\n",
       "      <th>...</th>\n",
       "      <th>app</th>\n",
       "      <th>web</th>\n",
       "      <th>awareness</th>\n",
       "      <th>consideration</th>\n",
       "      <th>conversion</th>\n",
       "      <th>account_id_y</th>\n",
       "      <th>products</th>\n",
       "      <th>account_id</th>\n",
       "      <th>onsite_sales</th>\n",
       "      <th>onsite_revenue_euro</th>\n",
       "    </tr>\n",
       "  </thead>\n",
       "  <tbody>\n",
       "    <tr>\n",
       "      <td>0</td>\n",
       "      <td>0</td>\n",
       "      <td>0</td>\n",
       "      <td>0</td>\n",
       "      <td>0</td>\n",
       "      <td>ga_bc66d247-ae5d-e311-a5f9-005056bb7e02</td>\n",
       "      <td>RETAIL</td>\n",
       "      <td>Electronics / High Tech</td>\n",
       "      <td>RUSSIAN FEDERATION</td>\n",
       "      <td>ga_bc66d247-ae5d-e311-a5f9-005056bb7e02_RUSSIA...</td>\n",
       "      <td>EMEA</td>\n",
       "      <td>...</td>\n",
       "      <td>NaN</td>\n",
       "      <td>1030.0</td>\n",
       "      <td>NaN</td>\n",
       "      <td>NaN</td>\n",
       "      <td>1030.0</td>\n",
       "      <td>ga_a512e5f2-b196-e411-b0d2-005056bb7e02</td>\n",
       "      <td>4500.0</td>\n",
       "      <td>ga_bc66d247-ae5d-e311-a5f9-005056bb7e02</td>\n",
       "      <td>3093.0</td>\n",
       "      <td>416103.72</td>\n",
       "    </tr>\n",
       "    <tr>\n",
       "      <td>1</td>\n",
       "      <td>1</td>\n",
       "      <td>1</td>\n",
       "      <td>70</td>\n",
       "      <td>70</td>\n",
       "      <td>ga_bc784dcb-17fe-e311-a3df-005056bb7e02</td>\n",
       "      <td>RETAIL</td>\n",
       "      <td>Gifts &amp; Flowers</td>\n",
       "      <td>CANADA</td>\n",
       "      <td>ga_bc784dcb-17fe-e311-a3df-005056bb7e02_CANADA</td>\n",
       "      <td>AMERICAS</td>\n",
       "      <td>...</td>\n",
       "      <td>NaN</td>\n",
       "      <td>1966.0</td>\n",
       "      <td>NaN</td>\n",
       "      <td>NaN</td>\n",
       "      <td>1966.0</td>\n",
       "      <td>ga_a512e5f2-b196-e411-b0d2-005056bb7e02</td>\n",
       "      <td>4604.0</td>\n",
       "      <td>ga_bc66d247-ae5d-e311-a5f9-005056bb7e02</td>\n",
       "      <td>585.0</td>\n",
       "      <td>183438.72</td>\n",
       "    </tr>\n",
       "    <tr>\n",
       "      <td>2</td>\n",
       "      <td>2</td>\n",
       "      <td>2</td>\n",
       "      <td>96</td>\n",
       "      <td>96</td>\n",
       "      <td>ga_bc784dcb-17fe-e311-a3df-005056bb7e02</td>\n",
       "      <td>RETAIL</td>\n",
       "      <td>Gifts &amp; Flowers</td>\n",
       "      <td>UNITED KINGDOM</td>\n",
       "      <td>ga_bc784dcb-17fe-e311-a3df-005056bb7e02_UNITED...</td>\n",
       "      <td>EMEA</td>\n",
       "      <td>...</td>\n",
       "      <td>NaN</td>\n",
       "      <td>1377.0</td>\n",
       "      <td>NaN</td>\n",
       "      <td>NaN</td>\n",
       "      <td>1377.0</td>\n",
       "      <td>ga_a512e5f2-b196-e411-b0d2-005056bb7e02</td>\n",
       "      <td>13958.0</td>\n",
       "      <td>ga_bc66d247-ae5d-e311-a5f9-005056bb7e02</td>\n",
       "      <td>21107.0</td>\n",
       "      <td>3858810.09</td>\n",
       "    </tr>\n",
       "    <tr>\n",
       "      <td>3</td>\n",
       "      <td>3</td>\n",
       "      <td>3</td>\n",
       "      <td>136</td>\n",
       "      <td>136</td>\n",
       "      <td>ga_bc784dcb-17fe-e311-a3df-005056bb7e02</td>\n",
       "      <td>RETAIL</td>\n",
       "      <td>Gifts &amp; Flowers</td>\n",
       "      <td>UNITED STATES</td>\n",
       "      <td>ga_bc784dcb-17fe-e311-a3df-005056bb7e02_UNITED...</td>\n",
       "      <td>AMERICAS</td>\n",
       "      <td>...</td>\n",
       "      <td>NaN</td>\n",
       "      <td>82.0</td>\n",
       "      <td>NaN</td>\n",
       "      <td>NaN</td>\n",
       "      <td>82.0</td>\n",
       "      <td>ga_a512e5f2-b196-e411-b0d2-005056bb7e02</td>\n",
       "      <td>4990.0</td>\n",
       "      <td>ga_bc66d247-ae5d-e311-a5f9-005056bb7e02</td>\n",
       "      <td>82.0</td>\n",
       "      <td>11705.52</td>\n",
       "    </tr>\n",
       "    <tr>\n",
       "      <td>4</td>\n",
       "      <td>4</td>\n",
       "      <td>4</td>\n",
       "      <td>376</td>\n",
       "      <td>376</td>\n",
       "      <td>ga_8fff21b1-4fad-e511-9606-005056bb2344</td>\n",
       "      <td>RETAIL</td>\n",
       "      <td>Accessories / Jewelry / Luxury Goods</td>\n",
       "      <td>RUSSIAN FEDERATION</td>\n",
       "      <td>ga_8fff21b1-4fad-e511-9606-005056bb2344_RUSSIA...</td>\n",
       "      <td>EMEA</td>\n",
       "      <td>...</td>\n",
       "      <td>NaN</td>\n",
       "      <td>74.0</td>\n",
       "      <td>NaN</td>\n",
       "      <td>NaN</td>\n",
       "      <td>74.0</td>\n",
       "      <td>ga_a512e5f2-b196-e411-b0d2-005056bb7e02</td>\n",
       "      <td>5147.0</td>\n",
       "      <td>ga_bc66d247-ae5d-e311-a5f9-005056bb7e02</td>\n",
       "      <td>686.0</td>\n",
       "      <td>87426.68</td>\n",
       "    </tr>\n",
       "  </tbody>\n",
       "</table>\n",
       "<p>5 rows × 45 columns</p>\n",
       "</div>"
      ],
      "text/plain": [
       "  Unnamed: 0 index Unnamed: 0.1 Unnamed: 0.1.1  \\\n",
       "0          0     0            0              0   \n",
       "1          1     1           70             70   \n",
       "2          2     2           96             96   \n",
       "3          3     3          136            136   \n",
       "4          4     4          376            376   \n",
       "\n",
       "                              account_id_x vertical  \\\n",
       "0  ga_bc66d247-ae5d-e311-a5f9-005056bb7e02   RETAIL   \n",
       "1  ga_bc784dcb-17fe-e311-a3df-005056bb7e02   RETAIL   \n",
       "2  ga_bc784dcb-17fe-e311-a3df-005056bb7e02   RETAIL   \n",
       "3  ga_bc784dcb-17fe-e311-a3df-005056bb7e02   RETAIL   \n",
       "4  ga_8fff21b1-4fad-e511-9606-005056bb2344   RETAIL   \n",
       "\n",
       "                               industry      client_country  \\\n",
       "0               Electronics / High Tech  RUSSIAN FEDERATION   \n",
       "1                       Gifts & Flowers              CANADA   \n",
       "2                       Gifts & Flowers      UNITED KINGDOM   \n",
       "3                       Gifts & Flowers       UNITED STATES   \n",
       "4  Accessories / Jewelry / Luxury Goods  RUSSIAN FEDERATION   \n",
       "\n",
       "                                       unique_client client_continent  ...  \\\n",
       "0  ga_bc66d247-ae5d-e311-a5f9-005056bb7e02_RUSSIA...             EMEA  ...   \n",
       "1     ga_bc784dcb-17fe-e311-a3df-005056bb7e02_CANADA         AMERICAS  ...   \n",
       "2  ga_bc784dcb-17fe-e311-a3df-005056bb7e02_UNITED...             EMEA  ...   \n",
       "3  ga_bc784dcb-17fe-e311-a3df-005056bb7e02_UNITED...         AMERICAS  ...   \n",
       "4  ga_8fff21b1-4fad-e511-9606-005056bb2344_RUSSIA...             EMEA  ...   \n",
       "\n",
       "   app     web awareness consideration conversion  \\\n",
       "0  NaN  1030.0       NaN           NaN     1030.0   \n",
       "1  NaN  1966.0       NaN           NaN     1966.0   \n",
       "2  NaN  1377.0       NaN           NaN     1377.0   \n",
       "3  NaN    82.0       NaN           NaN       82.0   \n",
       "4  NaN    74.0       NaN           NaN       74.0   \n",
       "\n",
       "                              account_id_y products  \\\n",
       "0  ga_a512e5f2-b196-e411-b0d2-005056bb7e02   4500.0   \n",
       "1  ga_a512e5f2-b196-e411-b0d2-005056bb7e02   4604.0   \n",
       "2  ga_a512e5f2-b196-e411-b0d2-005056bb7e02  13958.0   \n",
       "3  ga_a512e5f2-b196-e411-b0d2-005056bb7e02   4990.0   \n",
       "4  ga_a512e5f2-b196-e411-b0d2-005056bb7e02   5147.0   \n",
       "\n",
       "                                account_id onsite_sales onsite_revenue_euro  \n",
       "0  ga_bc66d247-ae5d-e311-a5f9-005056bb7e02       3093.0           416103.72  \n",
       "1  ga_bc66d247-ae5d-e311-a5f9-005056bb7e02        585.0           183438.72  \n",
       "2  ga_bc66d247-ae5d-e311-a5f9-005056bb7e02      21107.0          3858810.09  \n",
       "3  ga_bc66d247-ae5d-e311-a5f9-005056bb7e02         82.0            11705.52  \n",
       "4  ga_bc66d247-ae5d-e311-a5f9-005056bb7e02        686.0            87426.68  \n",
       "\n",
       "[5 rows x 45 columns]"
      ]
     },
     "execution_count": 3,
     "metadata": {},
     "output_type": "execute_result"
    }
   ],
   "source": [
    "df.head()"
   ]
  },
  {
   "cell_type": "markdown",
   "metadata": {},
   "source": [
    "## Remove the top 3 (revenue) client for the later prediction with trained model"
   ]
  },
  {
   "cell_type": "code",
   "execution_count": 4,
   "metadata": {},
   "outputs": [
    {
     "data": {
      "text/html": [
       "<div>\n",
       "<style scoped>\n",
       "    .dataframe tbody tr th:only-of-type {\n",
       "        vertical-align: middle;\n",
       "    }\n",
       "\n",
       "    .dataframe tbody tr th {\n",
       "        vertical-align: top;\n",
       "    }\n",
       "\n",
       "    .dataframe thead th {\n",
       "        text-align: right;\n",
       "    }\n",
       "</style>\n",
       "<table border=\"1\" class=\"dataframe\">\n",
       "  <thead>\n",
       "    <tr style=\"text-align: right;\">\n",
       "      <th></th>\n",
       "      <th>Unnamed: 0</th>\n",
       "      <th>index</th>\n",
       "      <th>Unnamed: 0.1</th>\n",
       "      <th>Unnamed: 0.1.1</th>\n",
       "      <th>account_id_x</th>\n",
       "      <th>vertical</th>\n",
       "      <th>industry</th>\n",
       "      <th>client_country</th>\n",
       "      <th>unique_client</th>\n",
       "      <th>client_continent</th>\n",
       "      <th>...</th>\n",
       "      <th>app</th>\n",
       "      <th>web</th>\n",
       "      <th>awareness</th>\n",
       "      <th>consideration</th>\n",
       "      <th>conversion</th>\n",
       "      <th>account_id_y</th>\n",
       "      <th>products</th>\n",
       "      <th>account_id</th>\n",
       "      <th>onsite_sales</th>\n",
       "      <th>onsite_revenue_euro</th>\n",
       "    </tr>\n",
       "  </thead>\n",
       "  <tbody>\n",
       "    <tr>\n",
       "      <td>6082</td>\n",
       "      <td>6082</td>\n",
       "      <td>6082</td>\n",
       "      <td>595166</td>\n",
       "      <td>595166</td>\n",
       "      <td>ga_5ac151c7-7c38-e211-9847-000c29ae377c</td>\n",
       "      <td>CLASSIFIED ADS</td>\n",
       "      <td>Mass Merchant</td>\n",
       "      <td>AUSTRALIA</td>\n",
       "      <td>ga_5ac151c7-7c38-e211-9847-000c29ae377c_AUSTRALIA</td>\n",
       "      <td>APAC</td>\n",
       "      <td>...</td>\n",
       "      <td>NaN</td>\n",
       "      <td>470106.0</td>\n",
       "      <td>NaN</td>\n",
       "      <td>NaN</td>\n",
       "      <td>470106.0</td>\n",
       "      <td>ga_c8b651c7-7c38-e211-9847-000c29ae377c</td>\n",
       "      <td>41939.0</td>\n",
       "      <td>ga_249a039d-d882-e311-b5d4-005056bb7e02</td>\n",
       "      <td>18681.0</td>\n",
       "      <td>71173809.79</td>\n",
       "    </tr>\n",
       "    <tr>\n",
       "      <td>14463</td>\n",
       "      <td>14463</td>\n",
       "      <td>14463</td>\n",
       "      <td>1413801</td>\n",
       "      <td>1413801</td>\n",
       "      <td>ga_89539ff9-1390-e211-a813-005056bb2836</td>\n",
       "      <td>RETAIL</td>\n",
       "      <td>Apparel</td>\n",
       "      <td>UNITED STATES</td>\n",
       "      <td>ga_89539ff9-1390-e211-a813-005056bb2836_UNITED...</td>\n",
       "      <td>AMERICAS</td>\n",
       "      <td>...</td>\n",
       "      <td>NaN</td>\n",
       "      <td>558004.0</td>\n",
       "      <td>NaN</td>\n",
       "      <td>NaN</td>\n",
       "      <td>558004.0</td>\n",
       "      <td>ga_aab751c7-7c38-e211-9847-000c29ae377c</td>\n",
       "      <td>1409.0</td>\n",
       "      <td>d5f4efb4-2816-b8d3-b730-940b6786051d</td>\n",
       "      <td>20600.0</td>\n",
       "      <td>505723.96</td>\n",
       "    </tr>\n",
       "    <tr>\n",
       "      <td>12587</td>\n",
       "      <td>12587</td>\n",
       "      <td>12587</td>\n",
       "      <td>1230243</td>\n",
       "      <td>1230243</td>\n",
       "      <td>ga_3a1033da-7c38-e211-9847-000c29ae377c</td>\n",
       "      <td>RETAIL</td>\n",
       "      <td>Home Improvement / Gardening / Interior Design</td>\n",
       "      <td>UNITED STATES</td>\n",
       "      <td>ga_3a1033da-7c38-e211-9847-000c29ae377c_UNITED...</td>\n",
       "      <td>AMERICAS</td>\n",
       "      <td>...</td>\n",
       "      <td>NaN</td>\n",
       "      <td>535661.0</td>\n",
       "      <td>NaN</td>\n",
       "      <td>NaN</td>\n",
       "      <td>535661.0</td>\n",
       "      <td>ga_f443ad18-8a95-e411-b0d2-005056bb7e02</td>\n",
       "      <td>2830.0</td>\n",
       "      <td>ga_88573191-860a-e511-9606-005056bb2344</td>\n",
       "      <td>4.0</td>\n",
       "      <td>30.83</td>\n",
       "    </tr>\n",
       "  </tbody>\n",
       "</table>\n",
       "<p>3 rows × 45 columns</p>\n",
       "</div>"
      ],
      "text/plain": [
       "      Unnamed: 0  index Unnamed: 0.1 Unnamed: 0.1.1  \\\n",
       "6082        6082   6082       595166         595166   \n",
       "14463      14463  14463      1413801        1413801   \n",
       "12587      12587  12587      1230243        1230243   \n",
       "\n",
       "                                  account_id_x        vertical  \\\n",
       "6082   ga_5ac151c7-7c38-e211-9847-000c29ae377c  CLASSIFIED ADS   \n",
       "14463  ga_89539ff9-1390-e211-a813-005056bb2836          RETAIL   \n",
       "12587  ga_3a1033da-7c38-e211-9847-000c29ae377c          RETAIL   \n",
       "\n",
       "                                             industry client_country  \\\n",
       "6082                                    Mass Merchant      AUSTRALIA   \n",
       "14463                                         Apparel  UNITED STATES   \n",
       "12587  Home Improvement / Gardening / Interior Design  UNITED STATES   \n",
       "\n",
       "                                           unique_client client_continent  \\\n",
       "6082   ga_5ac151c7-7c38-e211-9847-000c29ae377c_AUSTRALIA             APAC   \n",
       "14463  ga_89539ff9-1390-e211-a813-005056bb2836_UNITED...         AMERICAS   \n",
       "12587  ga_3a1033da-7c38-e211-9847-000c29ae377c_UNITED...         AMERICAS   \n",
       "\n",
       "       ...  app       web awareness consideration conversion  \\\n",
       "6082   ...  NaN  470106.0       NaN           NaN   470106.0   \n",
       "14463  ...  NaN  558004.0       NaN           NaN   558004.0   \n",
       "12587  ...  NaN  535661.0       NaN           NaN   535661.0   \n",
       "\n",
       "                                  account_id_y products  \\\n",
       "6082   ga_c8b651c7-7c38-e211-9847-000c29ae377c  41939.0   \n",
       "14463  ga_aab751c7-7c38-e211-9847-000c29ae377c   1409.0   \n",
       "12587  ga_f443ad18-8a95-e411-b0d2-005056bb7e02   2830.0   \n",
       "\n",
       "                                    account_id onsite_sales  \\\n",
       "6082   ga_249a039d-d882-e311-b5d4-005056bb7e02      18681.0   \n",
       "14463     d5f4efb4-2816-b8d3-b730-940b6786051d      20600.0   \n",
       "12587  ga_88573191-860a-e511-9606-005056bb2344          4.0   \n",
       "\n",
       "      onsite_revenue_euro  \n",
       "6082          71173809.79  \n",
       "14463           505723.96  \n",
       "12587               30.83  \n",
       "\n",
       "[3 rows x 45 columns]"
      ]
     },
     "execution_count": 4,
     "metadata": {},
     "output_type": "execute_result"
    }
   ],
   "source": [
    "save_top3=df.iloc[[6082,14463,12587]]\n",
    "save_top3"
   ]
  },
  {
   "cell_type": "code",
   "execution_count": 5,
   "metadata": {},
   "outputs": [],
   "source": [
    "save_top3 = save_top3.fillna(0)"
   ]
  },
  {
   "cell_type": "code",
   "execution_count": 6,
   "metadata": {},
   "outputs": [
    {
     "data": {
      "text/html": [
       "<div>\n",
       "<style scoped>\n",
       "    .dataframe tbody tr th:only-of-type {\n",
       "        vertical-align: middle;\n",
       "    }\n",
       "\n",
       "    .dataframe tbody tr th {\n",
       "        vertical-align: top;\n",
       "    }\n",
       "\n",
       "    .dataframe thead th {\n",
       "        text-align: right;\n",
       "    }\n",
       "</style>\n",
       "<table border=\"1\" class=\"dataframe\">\n",
       "  <thead>\n",
       "    <tr style=\"text-align: right;\">\n",
       "      <th></th>\n",
       "      <th>index</th>\n",
       "      <th>month</th>\n",
       "      <th>time</th>\n",
       "      <th>vertical</th>\n",
       "      <th>industry</th>\n",
       "      <th>client_country</th>\n",
       "      <th>client_continent</th>\n",
       "      <th>client_region</th>\n",
       "      <th>OS</th>\n",
       "      <th>device</th>\n",
       "      <th>...</th>\n",
       "      <th>Desktop</th>\n",
       "      <th>Mobile</th>\n",
       "      <th>app</th>\n",
       "      <th>web</th>\n",
       "      <th>awareness</th>\n",
       "      <th>consideration</th>\n",
       "      <th>conversion</th>\n",
       "      <th>products</th>\n",
       "      <th>onsite_sales</th>\n",
       "      <th>onsite_revenue_euro</th>\n",
       "    </tr>\n",
       "  </thead>\n",
       "  <tbody>\n",
       "    <tr>\n",
       "      <td>6082</td>\n",
       "      <td>6082</td>\n",
       "      <td>3</td>\n",
       "      <td>2017.03</td>\n",
       "      <td>CLASSIFIED ADS</td>\n",
       "      <td>Mass Merchant</td>\n",
       "      <td>AUSTRALIA</td>\n",
       "      <td>APAC</td>\n",
       "      <td>PACIFIC</td>\n",
       "      <td>Android</td>\n",
       "      <td>Mobile</td>\n",
       "      <td>...</td>\n",
       "      <td>0</td>\n",
       "      <td>470106.0</td>\n",
       "      <td>0</td>\n",
       "      <td>470106.0</td>\n",
       "      <td>0</td>\n",
       "      <td>0</td>\n",
       "      <td>470106.0</td>\n",
       "      <td>41939.0</td>\n",
       "      <td>18681.0</td>\n",
       "      <td>71173809.79</td>\n",
       "    </tr>\n",
       "    <tr>\n",
       "      <td>14463</td>\n",
       "      <td>14463</td>\n",
       "      <td>3</td>\n",
       "      <td>2017.03</td>\n",
       "      <td>RETAIL</td>\n",
       "      <td>Apparel</td>\n",
       "      <td>UNITED STATES</td>\n",
       "      <td>AMERICAS</td>\n",
       "      <td>US</td>\n",
       "      <td>Android</td>\n",
       "      <td>Mobile</td>\n",
       "      <td>...</td>\n",
       "      <td>0</td>\n",
       "      <td>558004.0</td>\n",
       "      <td>0</td>\n",
       "      <td>558004.0</td>\n",
       "      <td>0</td>\n",
       "      <td>0</td>\n",
       "      <td>558004.0</td>\n",
       "      <td>1409.0</td>\n",
       "      <td>20600.0</td>\n",
       "      <td>505723.96</td>\n",
       "    </tr>\n",
       "    <tr>\n",
       "      <td>12587</td>\n",
       "      <td>12587</td>\n",
       "      <td>3</td>\n",
       "      <td>2017.03</td>\n",
       "      <td>RETAIL</td>\n",
       "      <td>Home Improvement / Gardening / Interior Design</td>\n",
       "      <td>UNITED STATES</td>\n",
       "      <td>AMERICAS</td>\n",
       "      <td>US</td>\n",
       "      <td>Android</td>\n",
       "      <td>Mobile</td>\n",
       "      <td>...</td>\n",
       "      <td>0</td>\n",
       "      <td>535661.0</td>\n",
       "      <td>0</td>\n",
       "      <td>535661.0</td>\n",
       "      <td>0</td>\n",
       "      <td>0</td>\n",
       "      <td>535661.0</td>\n",
       "      <td>2830.0</td>\n",
       "      <td>4.0</td>\n",
       "      <td>30.83</td>\n",
       "    </tr>\n",
       "  </tbody>\n",
       "</table>\n",
       "<p>3 rows × 33 columns</p>\n",
       "</div>"
      ],
      "text/plain": [
       "       index month     time        vertical  \\\n",
       "6082    6082     3  2017.03  CLASSIFIED ADS   \n",
       "14463  14463     3  2017.03          RETAIL   \n",
       "12587  12587     3  2017.03          RETAIL   \n",
       "\n",
       "                                             industry client_country  \\\n",
       "6082                                    Mass Merchant      AUSTRALIA   \n",
       "14463                                         Apparel  UNITED STATES   \n",
       "12587  Home Improvement / Gardening / Interior Design  UNITED STATES   \n",
       "\n",
       "      client_continent client_region       OS  device  ... Desktop    Mobile  \\\n",
       "6082              APAC       PACIFIC  Android  Mobile  ...       0  470106.0   \n",
       "14463         AMERICAS            US  Android  Mobile  ...       0  558004.0   \n",
       "12587         AMERICAS            US  Android  Mobile  ...       0  535661.0   \n",
       "\n",
       "      app       web awareness consideration conversion products  onsite_sales  \\\n",
       "6082    0  470106.0         0             0   470106.0  41939.0       18681.0   \n",
       "14463   0  558004.0         0             0   558004.0   1409.0       20600.0   \n",
       "12587   0  535661.0         0             0   535661.0   2830.0           4.0   \n",
       "\n",
       "      onsite_revenue_euro  \n",
       "6082          71173809.79  \n",
       "14463           505723.96  \n",
       "12587               30.83  \n",
       "\n",
       "[3 rows x 33 columns]"
      ]
     },
     "execution_count": 6,
     "metadata": {},
     "output_type": "execute_result"
    }
   ],
   "source": [
    "cols1 = ['index', 'month','time','vertical', 'industry', 'client_country',\n",
    "         'client_continent', 'client_region', 'OS', 'device', 'environment', 'criteo_product', \n",
    "         'spend_criteo_euro', 'sales_criteo', 'CPO', 'revenue_criteo_euro', 'AOV', 'COS', 'churn_date',\n",
    "         'Android', 'MacOS', 'Other', 'iOs', 'Desktop', 'Mobile', 'app', 'web', 'awareness', 'consideration', \n",
    "         'conversion', 'products','onsite_sales', 'onsite_revenue_euro']\n",
    "save_top3 = save_top3[cols1]\n",
    "save_top3.head()"
   ]
  },
  {
   "cell_type": "code",
   "execution_count": 7,
   "metadata": {},
   "outputs": [],
   "source": [
    "num_cols = ['index', 'month','time', 'spend_criteo_euro', 'sales_criteo', 'CPO', 'revenue_criteo_euro', 'AOV', 'COS',\n",
    "           'Android', 'MacOS', 'Other', 'iOs', 'Desktop', 'Mobile', 'app', 'web', 'awareness', 'consideration', \n",
    "         'conversion', 'products','onsite_sales', 'onsite_revenue_euro']\n",
    "save_top3[num_cols] = save_top3[num_cols].apply(pd.to_numeric, errors='coerce')\n",
    "cate_cols = save_top3.columns.drop('churn_date').drop(num_cols)"
   ]
  },
  {
   "cell_type": "code",
   "execution_count": 8,
   "metadata": {},
   "outputs": [],
   "source": [
    "save_top3[num_cols] = save_top3[num_cols].apply(pd.to_numeric, errors='coerce')\n",
    "save_top3['churn_date'] = save_top3['churn_date'].apply(pd.to_numeric, errors='coerce')"
   ]
  },
  {
   "cell_type": "code",
   "execution_count": 9,
   "metadata": {},
   "outputs": [],
   "source": [
    "def compare_nan_array(func, a, thresh):\n",
    "    out = ~np.isnan(a)\n",
    "    out[out] = func(a[out] , thresh)\n",
    "    return out"
   ]
  },
  {
   "cell_type": "code",
   "execution_count": 10,
   "metadata": {},
   "outputs": [
    {
     "name": "stdout",
     "output_type": "stream",
     "text": [
      "<class 'pandas.core.frame.DataFrame'>\n",
      "Int64Index: 3 entries, 6082 to 12587\n",
      "Data columns (total 33 columns):\n",
      "index                  3 non-null int64\n",
      "month                  3 non-null int64\n",
      "time                   3 non-null float64\n",
      "vertical               3 non-null object\n",
      "industry               3 non-null object\n",
      "client_country         3 non-null object\n",
      "client_continent       3 non-null object\n",
      "client_region          3 non-null object\n",
      "OS                     3 non-null object\n",
      "device                 3 non-null object\n",
      "environment            3 non-null object\n",
      "criteo_product         3 non-null object\n",
      "spend_criteo_euro      3 non-null int64\n",
      "sales_criteo           3 non-null int64\n",
      "CPO                    3 non-null float64\n",
      "revenue_criteo_euro    3 non-null int64\n",
      "AOV                    3 non-null float64\n",
      "COS                    3 non-null int64\n",
      "churn_date             3 non-null int64\n",
      "Android                3 non-null float64\n",
      "MacOS                  3 non-null int64\n",
      "Other                  3 non-null int64\n",
      "iOs                    3 non-null int64\n",
      "Desktop                3 non-null int64\n",
      "Mobile                 3 non-null float64\n",
      "app                    3 non-null int64\n",
      "web                    3 non-null float64\n",
      "awareness              3 non-null int64\n",
      "consideration          3 non-null int64\n",
      "conversion             3 non-null float64\n",
      "products               3 non-null float64\n",
      "onsite_sales           3 non-null float64\n",
      "onsite_revenue_euro    3 non-null float64\n",
      "dtypes: float64(10), int64(14), object(9)\n",
      "memory usage: 816.0+ bytes\n"
     ]
    }
   ],
   "source": [
    "save_top3.info()"
   ]
  },
  {
   "cell_type": "code",
   "execution_count": 11,
   "metadata": {},
   "outputs": [],
   "source": [
    "save_top3 = save_top3.drop('index', axis=1)"
   ]
  },
  {
   "cell_type": "code",
   "execution_count": 12,
   "metadata": {},
   "outputs": [],
   "source": [
    "encoder = preprocessing.LabelEncoder()\n",
    "save_top3['vertical'] = encoder.fit_transform(save_top3['vertical'])\n",
    "save_top3['industry'] = encoder.fit_transform(save_top3['industry'])\n",
    "save_top3['client_country'] = encoder.fit_transform(save_top3['client_country'])\n",
    "save_top3['client_continent'] = encoder.fit_transform(save_top3['client_continent'])\n",
    "save_top3['client_region'] = encoder.fit_transform(save_top3['client_region'])\n",
    "save_top3['OS'] = encoder.fit_transform(save_top3['OS'])\n",
    "save_top3['device'] = encoder.fit_transform(save_top3['device'])\n",
    "save_top3['environment'] = encoder.fit_transform(save_top3['environment'])\n",
    "save_top3['criteo_product'] = encoder.fit_transform(save_top3['criteo_product'])"
   ]
  },
  {
   "cell_type": "code",
   "execution_count": 13,
   "metadata": {},
   "outputs": [],
   "source": [
    "df.drop([6082,14463,12587], inplace=True)"
   ]
  },
  {
   "cell_type": "markdown",
   "metadata": {},
   "source": [
    "# Now prepare the data for training the model"
   ]
  },
  {
   "cell_type": "code",
   "execution_count": 14,
   "metadata": {},
   "outputs": [],
   "source": [
    "df = df.reset_index()"
   ]
  },
  {
   "cell_type": "code",
   "execution_count": 15,
   "metadata": {},
   "outputs": [],
   "source": [
    "df.drop(columns=['Unnamed: 0'], inplace = True)\n",
    "df = df.fillna(0)"
   ]
  },
  {
   "cell_type": "code",
   "execution_count": 16,
   "metadata": {},
   "outputs": [
    {
     "name": "stdout",
     "output_type": "stream",
     "text": [
      "<class 'pandas.core.frame.DataFrame'>\n",
      "RangeIndex: 16247 entries, 0 to 16246\n",
      "Data columns (total 45 columns):\n",
      "level_0                16247 non-null int64\n",
      "index                  16247 non-null object\n",
      "Unnamed: 0.1           16247 non-null object\n",
      "Unnamed: 0.1.1         16247 non-null object\n",
      "account_id_x           16247 non-null object\n",
      "vertical               16247 non-null object\n",
      "industry               16247 non-null object\n",
      "client_country         16247 non-null object\n",
      "unique_client          16247 non-null object\n",
      "client_continent       16247 non-null object\n",
      "client_region          16247 non-null object\n",
      "OS                     16247 non-null object\n",
      "device                 16247 non-null object\n",
      "environment            16247 non-null object\n",
      "criteo_product         16247 non-null object\n",
      "month                  16247 non-null object\n",
      "time                   16247 non-null object\n",
      "year                   16247 non-null object\n",
      "spend_criteo_euro      16247 non-null object\n",
      "sales_criteo           16247 non-null object\n",
      "CPO                    16247 non-null object\n",
      "revenue_criteo_euro    16247 non-null object\n",
      "AOV                    16247 non-null object\n",
      "COS                    16247 non-null object\n",
      "churn_date             16247 non-null object\n",
      "churn                  16247 non-null object\n",
      "start_time             16247 non-null object\n",
      "Android                16247 non-null object\n",
      "MacOS                  16247 non-null object\n",
      "Other                  16247 non-null object\n",
      "Unknown_x              16247 non-null object\n",
      "iOs                    16247 non-null object\n",
      "Desktop                16247 non-null object\n",
      "Mobile                 16247 non-null object\n",
      "Unknown_y              16247 non-null object\n",
      "app                    16247 non-null object\n",
      "web                    16247 non-null object\n",
      "awareness              16247 non-null object\n",
      "consideration          16247 non-null object\n",
      "conversion             16247 non-null object\n",
      "account_id_y           16247 non-null object\n",
      "products               16247 non-null object\n",
      "account_id             16247 non-null object\n",
      "onsite_sales           16247 non-null object\n",
      "onsite_revenue_euro    16247 non-null object\n",
      "dtypes: int64(1), object(44)\n",
      "memory usage: 5.6+ MB\n"
     ]
    }
   ],
   "source": [
    "df.info()"
   ]
  },
  {
   "cell_type": "code",
   "execution_count": 23,
   "metadata": {},
   "outputs": [
    {
     "data": {
      "text/plain": [
       "['index',\n",
       " 'month',\n",
       " 'time',\n",
       " 'vertical',\n",
       " 'industry',\n",
       " 'client_country',\n",
       " 'client_continent',\n",
       " 'client_region',\n",
       " 'OS',\n",
       " 'device',\n",
       " 'environment',\n",
       " 'criteo_product',\n",
       " 'spend_criteo_euro',\n",
       " 'sales_criteo',\n",
       " 'CPO',\n",
       " 'revenue_criteo_euro',\n",
       " 'AOV',\n",
       " 'COS',\n",
       " 'churn_date',\n",
       " 'Android',\n",
       " 'MacOS',\n",
       " 'Other',\n",
       " 'iOs',\n",
       " 'Desktop',\n",
       " 'Mobile',\n",
       " 'app',\n",
       " 'web',\n",
       " 'awareness',\n",
       " 'consideration',\n",
       " 'conversion',\n",
       " 'products',\n",
       " 'onsite_sales',\n",
       " 'onsite_revenue_euro']"
      ]
     },
     "execution_count": 23,
     "metadata": {},
     "output_type": "execute_result"
    }
   ],
   "source": [
    "list(df.columns) "
   ]
  },
  {
   "cell_type": "code",
   "execution_count": 24,
   "metadata": {},
   "outputs": [
    {
     "data": {
      "text/html": [
       "<div>\n",
       "<style scoped>\n",
       "    .dataframe tbody tr th:only-of-type {\n",
       "        vertical-align: middle;\n",
       "    }\n",
       "\n",
       "    .dataframe tbody tr th {\n",
       "        vertical-align: top;\n",
       "    }\n",
       "\n",
       "    .dataframe thead th {\n",
       "        text-align: right;\n",
       "    }\n",
       "</style>\n",
       "<table border=\"1\" class=\"dataframe\">\n",
       "  <thead>\n",
       "    <tr style=\"text-align: right;\">\n",
       "      <th></th>\n",
       "      <th>month</th>\n",
       "      <th>time</th>\n",
       "      <th>vertical</th>\n",
       "      <th>industry</th>\n",
       "      <th>client_country</th>\n",
       "      <th>client_continent</th>\n",
       "      <th>client_region</th>\n",
       "      <th>OS</th>\n",
       "      <th>device</th>\n",
       "      <th>environment</th>\n",
       "      <th>...</th>\n",
       "      <th>Desktop</th>\n",
       "      <th>Mobile</th>\n",
       "      <th>app</th>\n",
       "      <th>web</th>\n",
       "      <th>awareness</th>\n",
       "      <th>consideration</th>\n",
       "      <th>conversion</th>\n",
       "      <th>products</th>\n",
       "      <th>onsite_sales</th>\n",
       "      <th>onsite_revenue_euro</th>\n",
       "    </tr>\n",
       "  </thead>\n",
       "  <tbody>\n",
       "    <tr>\n",
       "      <td>0</td>\n",
       "      <td>3</td>\n",
       "      <td>2017.03</td>\n",
       "      <td>RETAIL</td>\n",
       "      <td>Electronics / High Tech</td>\n",
       "      <td>RUSSIAN FEDERATION</td>\n",
       "      <td>EMEA</td>\n",
       "      <td>RUSSIA</td>\n",
       "      <td>Android</td>\n",
       "      <td>Mobile</td>\n",
       "      <td>web</td>\n",
       "      <td>...</td>\n",
       "      <td>0.0</td>\n",
       "      <td>1030.0</td>\n",
       "      <td>0.0</td>\n",
       "      <td>1030.0</td>\n",
       "      <td>0.0</td>\n",
       "      <td>0.0</td>\n",
       "      <td>1030.0</td>\n",
       "      <td>4500.0</td>\n",
       "      <td>3093.0</td>\n",
       "      <td>416103.72</td>\n",
       "    </tr>\n",
       "    <tr>\n",
       "      <td>1</td>\n",
       "      <td>4</td>\n",
       "      <td>2017.04</td>\n",
       "      <td>RETAIL</td>\n",
       "      <td>Gifts &amp; Flowers</td>\n",
       "      <td>CANADA</td>\n",
       "      <td>AMERICAS</td>\n",
       "      <td>CANADA</td>\n",
       "      <td>Android</td>\n",
       "      <td>Mobile</td>\n",
       "      <td>web</td>\n",
       "      <td>...</td>\n",
       "      <td>0.0</td>\n",
       "      <td>1966.0</td>\n",
       "      <td>0.0</td>\n",
       "      <td>1966.0</td>\n",
       "      <td>0.0</td>\n",
       "      <td>0.0</td>\n",
       "      <td>1966.0</td>\n",
       "      <td>4604.0</td>\n",
       "      <td>585.0</td>\n",
       "      <td>183438.72</td>\n",
       "    </tr>\n",
       "    <tr>\n",
       "      <td>2</td>\n",
       "      <td>9</td>\n",
       "      <td>2017.09</td>\n",
       "      <td>RETAIL</td>\n",
       "      <td>Gifts &amp; Flowers</td>\n",
       "      <td>UNITED KINGDOM</td>\n",
       "      <td>EMEA</td>\n",
       "      <td>UK</td>\n",
       "      <td>Android</td>\n",
       "      <td>Mobile</td>\n",
       "      <td>web</td>\n",
       "      <td>...</td>\n",
       "      <td>0.0</td>\n",
       "      <td>1377.0</td>\n",
       "      <td>0.0</td>\n",
       "      <td>1377.0</td>\n",
       "      <td>0.0</td>\n",
       "      <td>0.0</td>\n",
       "      <td>1377.0</td>\n",
       "      <td>13958.0</td>\n",
       "      <td>21107.0</td>\n",
       "      <td>3858810.09</td>\n",
       "    </tr>\n",
       "    <tr>\n",
       "      <td>3</td>\n",
       "      <td>7</td>\n",
       "      <td>2019.07</td>\n",
       "      <td>RETAIL</td>\n",
       "      <td>Gifts &amp; Flowers</td>\n",
       "      <td>UNITED STATES</td>\n",
       "      <td>AMERICAS</td>\n",
       "      <td>US</td>\n",
       "      <td>Android</td>\n",
       "      <td>Desktop</td>\n",
       "      <td>web</td>\n",
       "      <td>...</td>\n",
       "      <td>82.0</td>\n",
       "      <td>0.0</td>\n",
       "      <td>0.0</td>\n",
       "      <td>82.0</td>\n",
       "      <td>0.0</td>\n",
       "      <td>0.0</td>\n",
       "      <td>82.0</td>\n",
       "      <td>4990.0</td>\n",
       "      <td>82.0</td>\n",
       "      <td>11705.52</td>\n",
       "    </tr>\n",
       "    <tr>\n",
       "      <td>4</td>\n",
       "      <td>6</td>\n",
       "      <td>2017.06</td>\n",
       "      <td>RETAIL</td>\n",
       "      <td>Accessories / Jewelry / Luxury Goods</td>\n",
       "      <td>RUSSIAN FEDERATION</td>\n",
       "      <td>EMEA</td>\n",
       "      <td>RUSSIA</td>\n",
       "      <td>Android</td>\n",
       "      <td>Mobile</td>\n",
       "      <td>web</td>\n",
       "      <td>...</td>\n",
       "      <td>0.0</td>\n",
       "      <td>74.0</td>\n",
       "      <td>0.0</td>\n",
       "      <td>74.0</td>\n",
       "      <td>0.0</td>\n",
       "      <td>0.0</td>\n",
       "      <td>74.0</td>\n",
       "      <td>5147.0</td>\n",
       "      <td>686.0</td>\n",
       "      <td>87426.68</td>\n",
       "    </tr>\n",
       "  </tbody>\n",
       "</table>\n",
       "<p>5 rows × 32 columns</p>\n",
       "</div>"
      ],
      "text/plain": [
       "   month     time vertical                              industry  \\\n",
       "0      3  2017.03   RETAIL               Electronics / High Tech   \n",
       "1      4  2017.04   RETAIL                       Gifts & Flowers   \n",
       "2      9  2017.09   RETAIL                       Gifts & Flowers   \n",
       "3      7  2019.07   RETAIL                       Gifts & Flowers   \n",
       "4      6  2017.06   RETAIL  Accessories / Jewelry / Luxury Goods   \n",
       "\n",
       "       client_country client_continent client_region       OS   device  \\\n",
       "0  RUSSIAN FEDERATION             EMEA        RUSSIA  Android   Mobile   \n",
       "1              CANADA         AMERICAS        CANADA  Android   Mobile   \n",
       "2      UNITED KINGDOM             EMEA            UK  Android   Mobile   \n",
       "3       UNITED STATES         AMERICAS            US  Android  Desktop   \n",
       "4  RUSSIAN FEDERATION             EMEA        RUSSIA  Android   Mobile   \n",
       "\n",
       "  environment  ... Desktop  Mobile  app     web  awareness  consideration  \\\n",
       "0         web  ...     0.0  1030.0  0.0  1030.0        0.0            0.0   \n",
       "1         web  ...     0.0  1966.0  0.0  1966.0        0.0            0.0   \n",
       "2         web  ...     0.0  1377.0  0.0  1377.0        0.0            0.0   \n",
       "3         web  ...    82.0     0.0  0.0    82.0        0.0            0.0   \n",
       "4         web  ...     0.0    74.0  0.0    74.0        0.0            0.0   \n",
       "\n",
       "   conversion  products  onsite_sales  onsite_revenue_euro  \n",
       "0      1030.0    4500.0        3093.0            416103.72  \n",
       "1      1966.0    4604.0         585.0            183438.72  \n",
       "2      1377.0   13958.0       21107.0           3858810.09  \n",
       "3        82.0    4990.0          82.0             11705.52  \n",
       "4        74.0    5147.0         686.0             87426.68  \n",
       "\n",
       "[5 rows x 32 columns]"
      ]
     },
     "execution_count": 24,
     "metadata": {},
     "output_type": "execute_result"
    }
   ],
   "source": [
    "cols = ['month','time','vertical', 'industry', 'client_country', 'client_continent', 'client_region', 'OS',\n",
    "        'device', 'environment', 'criteo_product', 'spend_criteo_euro', 'sales_criteo', 'CPO', 'revenue_criteo_euro',\n",
    "        'AOV', 'COS', 'churn_date','Android', 'MacOS', 'Other', 'iOs', 'Desktop', 'Mobile', 'app', 'web', \n",
    "        'awareness', 'consideration', 'conversion', 'products','onsite_sales', 'onsite_revenue_euro']\n",
    "df = df[cols]\n",
    "df.head()"
   ]
  },
  {
   "cell_type": "code",
   "execution_count": 25,
   "metadata": {},
   "outputs": [],
   "source": [
    "num_cols = ['month','time', 'spend_criteo_euro', 'sales_criteo', 'CPO', 'revenue_criteo_euro', 'AOV', 'COS',\n",
    "           'Android', 'MacOS', 'Other', 'iOs', 'Desktop', 'Mobile', 'app', 'web', 'awareness', 'consideration', \n",
    "         'conversion', 'products','onsite_sales', 'onsite_revenue_euro']\n",
    "cate_cols = df.columns.drop('churn_date').drop(num_cols)"
   ]
  },
  {
   "cell_type": "code",
   "execution_count": 26,
   "metadata": {},
   "outputs": [],
   "source": [
    "df[num_cols] = df[num_cols].apply(pd.to_numeric, errors='coerce')\n",
    "df['churn_date'] = df['churn_date'].apply(pd.to_numeric, errors='coerce')"
   ]
  },
  {
   "cell_type": "code",
   "execution_count": 27,
   "metadata": {},
   "outputs": [],
   "source": [
    "df = df.reset_index()"
   ]
  },
  {
   "cell_type": "code",
   "execution_count": 28,
   "metadata": {},
   "outputs": [
    {
     "data": {
      "text/plain": [
       "0        2018.06\n",
       "1        2018.09\n",
       "2        2018.05\n",
       "3           0.00\n",
       "4        2018.02\n",
       "          ...   \n",
       "16242    2019.12\n",
       "16243       0.00\n",
       "16244       0.00\n",
       "16245       0.00\n",
       "16246       0.00\n",
       "Name: churn_date, Length: 16247, dtype: float64"
      ]
     },
     "execution_count": 28,
     "metadata": {},
     "output_type": "execute_result"
    }
   ],
   "source": [
    "df['churn_date']"
   ]
  },
  {
   "cell_type": "code",
   "execution_count": 29,
   "metadata": {},
   "outputs": [],
   "source": [
    "#for i in range(df.shape[0]):\n",
    "    #if df.loc[i,'churn_date'] == 0:\n",
    "        #df.loc[i,'churn_date'] = int(df['time'][i]) + 7.01"
   ]
  },
  {
   "cell_type": "code",
   "execution_count": 30,
   "metadata": {},
   "outputs": [
    {
     "data": {
      "text/plain": [
       "0        2018.06\n",
       "1        2018.09\n",
       "2        2018.05\n",
       "3        2025.01\n",
       "4        2018.02\n",
       "          ...   \n",
       "16242    2019.12\n",
       "16243    2025.01\n",
       "16244    2025.01\n",
       "16245    2025.01\n",
       "16246    2025.01\n",
       "Name: churn_date, Length: 16247, dtype: float64"
      ]
     },
     "execution_count": 30,
     "metadata": {},
     "output_type": "execute_result"
    }
   ],
   "source": [
    "df['churn_date'] = df['churn_date'].replace([0], 2025.01)\n",
    "df['churn_date']"
   ]
  },
  {
   "cell_type": "code",
   "execution_count": 31,
   "metadata": {},
   "outputs": [
    {
     "data": {
      "text/plain": [
       "2025.01"
      ]
     },
     "execution_count": 31,
     "metadata": {},
     "output_type": "execute_result"
    }
   ],
   "source": [
    "max(df['churn_date'])"
   ]
  },
  {
   "cell_type": "code",
   "execution_count": 32,
   "metadata": {},
   "outputs": [
    {
     "data": {
      "text/plain": [
       "2017.03"
      ]
     },
     "execution_count": 32,
     "metadata": {},
     "output_type": "execute_result"
    }
   ],
   "source": [
    "min(df['churn_date'])"
   ]
  },
  {
   "cell_type": "markdown",
   "metadata": {},
   "source": [
    "## Rescale the month (months in the scale of years) for the correct prediction of month"
   ]
  },
  {
   "cell_type": "code",
   "execution_count": 33,
   "metadata": {},
   "outputs": [],
   "source": [
    "eps = 1e-15\n",
    "for i in range(df.shape[0]):\n",
    "    number_dec_str = str(df['churn_date'][i]-int(df['churn_date'][i]))[1:]\n",
    "    number_dec = float(number_dec_str)\n",
    "    for j in range(1,13):\n",
    "            if abs(number_dec - 0.01*j) < eps:\n",
    "                df.loc[i,'churn_date'] = int(df['churn_date'][i]) + j/13"
   ]
  },
  {
   "cell_type": "markdown",
   "metadata": {},
   "source": [
    "## Create function to reverse the scale after the regression"
   ]
  },
  {
   "cell_type": "code",
   "execution_count": 82,
   "metadata": {},
   "outputs": [],
   "source": [
    "def identify_month(churn_date):\n",
    "    eps = 1e-15\n",
    "    number_dec_str = str(churn_date-int(churn_date))[1:]\n",
    "    number_dec = float(number_dec_str)\n",
    "    entry = False\n",
    "    for j in range(1,13):\n",
    "        if (number_dec < j/13.0 or abs(number_dec - j/13) < eps) and number_dec > (j-1)/13.0:\n",
    "            entry = True\n",
    "            return j\n",
    "    if not entry:\n",
    "        return 12"
   ]
  },
  {
   "cell_type": "code",
   "execution_count": 83,
   "metadata": {},
   "outputs": [],
   "source": [
    "#Identify the churn dates in the format (year, month) for all good clients in each cluster\n",
    "def get_final_date(pred_list):\n",
    "    final_dates = []\n",
    "    for i in range(len(pred_list)):\n",
    "        final_dates.append((int(pred_list[i]), identify_month(pred_list[i])))\n",
    "    return final_dates"
   ]
  },
  {
   "cell_type": "code",
   "execution_count": 36,
   "metadata": {},
   "outputs": [],
   "source": [
    "def compare_nan_array(func, a, thresh):\n",
    "    out = ~np.isnan(a)\n",
    "    out[out] = func(a[out] , thresh)\n",
    "    return out"
   ]
  },
  {
   "cell_type": "code",
   "execution_count": 37,
   "metadata": {},
   "outputs": [
    {
     "data": {
      "text/html": [
       "<div>\n",
       "<style scoped>\n",
       "    .dataframe tbody tr th:only-of-type {\n",
       "        vertical-align: middle;\n",
       "    }\n",
       "\n",
       "    .dataframe tbody tr th {\n",
       "        vertical-align: top;\n",
       "    }\n",
       "\n",
       "    .dataframe thead th {\n",
       "        text-align: right;\n",
       "    }\n",
       "</style>\n",
       "<table border=\"1\" class=\"dataframe\">\n",
       "  <thead>\n",
       "    <tr style=\"text-align: right;\">\n",
       "      <th></th>\n",
       "      <th>month</th>\n",
       "      <th>time</th>\n",
       "      <th>spend_criteo_euro</th>\n",
       "      <th>sales_criteo</th>\n",
       "      <th>CPO</th>\n",
       "      <th>revenue_criteo_euro</th>\n",
       "      <th>AOV</th>\n",
       "      <th>COS</th>\n",
       "      <th>Android</th>\n",
       "      <th>MacOS</th>\n",
       "      <th>...</th>\n",
       "      <th>Desktop</th>\n",
       "      <th>Mobile</th>\n",
       "      <th>app</th>\n",
       "      <th>web</th>\n",
       "      <th>awareness</th>\n",
       "      <th>consideration</th>\n",
       "      <th>conversion</th>\n",
       "      <th>products</th>\n",
       "      <th>onsite_sales</th>\n",
       "      <th>onsite_revenue_euro</th>\n",
       "    </tr>\n",
       "  </thead>\n",
       "  <tbody>\n",
       "    <tr>\n",
       "      <td>0</td>\n",
       "      <td>3</td>\n",
       "      <td>2017.03</td>\n",
       "      <td>1030</td>\n",
       "      <td>168</td>\n",
       "      <td>6.0</td>\n",
       "      <td>22929</td>\n",
       "      <td>136.0</td>\n",
       "      <td>0</td>\n",
       "      <td>1030.0</td>\n",
       "      <td>0.0</td>\n",
       "      <td>...</td>\n",
       "      <td>0.0</td>\n",
       "      <td>1030.0</td>\n",
       "      <td>0.0</td>\n",
       "      <td>1030.0</td>\n",
       "      <td>0.0</td>\n",
       "      <td>0.0</td>\n",
       "      <td>1030.0</td>\n",
       "      <td>4500.0</td>\n",
       "      <td>3093.0</td>\n",
       "      <td>416103.72</td>\n",
       "    </tr>\n",
       "    <tr>\n",
       "      <td>1</td>\n",
       "      <td>4</td>\n",
       "      <td>2017.04</td>\n",
       "      <td>1966</td>\n",
       "      <td>4</td>\n",
       "      <td>492.0</td>\n",
       "      <td>246</td>\n",
       "      <td>61.0</td>\n",
       "      <td>8</td>\n",
       "      <td>1966.0</td>\n",
       "      <td>0.0</td>\n",
       "      <td>...</td>\n",
       "      <td>0.0</td>\n",
       "      <td>1966.0</td>\n",
       "      <td>0.0</td>\n",
       "      <td>1966.0</td>\n",
       "      <td>0.0</td>\n",
       "      <td>0.0</td>\n",
       "      <td>1966.0</td>\n",
       "      <td>4604.0</td>\n",
       "      <td>585.0</td>\n",
       "      <td>183438.72</td>\n",
       "    </tr>\n",
       "    <tr>\n",
       "      <td>2</td>\n",
       "      <td>9</td>\n",
       "      <td>2017.09</td>\n",
       "      <td>1377</td>\n",
       "      <td>168</td>\n",
       "      <td>8.0</td>\n",
       "      <td>8606</td>\n",
       "      <td>51.0</td>\n",
       "      <td>0</td>\n",
       "      <td>1377.0</td>\n",
       "      <td>0.0</td>\n",
       "      <td>...</td>\n",
       "      <td>0.0</td>\n",
       "      <td>1377.0</td>\n",
       "      <td>0.0</td>\n",
       "      <td>1377.0</td>\n",
       "      <td>0.0</td>\n",
       "      <td>0.0</td>\n",
       "      <td>1377.0</td>\n",
       "      <td>13958.0</td>\n",
       "      <td>21107.0</td>\n",
       "      <td>3858810.09</td>\n",
       "    </tr>\n",
       "    <tr>\n",
       "      <td>3</td>\n",
       "      <td>7</td>\n",
       "      <td>2019.07</td>\n",
       "      <td>82</td>\n",
       "      <td>4</td>\n",
       "      <td>21.0</td>\n",
       "      <td>72</td>\n",
       "      <td>18.0</td>\n",
       "      <td>1</td>\n",
       "      <td>82.0</td>\n",
       "      <td>0.0</td>\n",
       "      <td>...</td>\n",
       "      <td>82.0</td>\n",
       "      <td>0.0</td>\n",
       "      <td>0.0</td>\n",
       "      <td>82.0</td>\n",
       "      <td>0.0</td>\n",
       "      <td>0.0</td>\n",
       "      <td>82.0</td>\n",
       "      <td>4990.0</td>\n",
       "      <td>82.0</td>\n",
       "      <td>11705.52</td>\n",
       "    </tr>\n",
       "    <tr>\n",
       "      <td>4</td>\n",
       "      <td>6</td>\n",
       "      <td>2017.06</td>\n",
       "      <td>74</td>\n",
       "      <td>20</td>\n",
       "      <td>4.0</td>\n",
       "      <td>1174</td>\n",
       "      <td>59.0</td>\n",
       "      <td>0</td>\n",
       "      <td>74.0</td>\n",
       "      <td>0.0</td>\n",
       "      <td>...</td>\n",
       "      <td>0.0</td>\n",
       "      <td>74.0</td>\n",
       "      <td>0.0</td>\n",
       "      <td>74.0</td>\n",
       "      <td>0.0</td>\n",
       "      <td>0.0</td>\n",
       "      <td>74.0</td>\n",
       "      <td>5147.0</td>\n",
       "      <td>686.0</td>\n",
       "      <td>87426.68</td>\n",
       "    </tr>\n",
       "    <tr>\n",
       "      <td>...</td>\n",
       "      <td>...</td>\n",
       "      <td>...</td>\n",
       "      <td>...</td>\n",
       "      <td>...</td>\n",
       "      <td>...</td>\n",
       "      <td>...</td>\n",
       "      <td>...</td>\n",
       "      <td>...</td>\n",
       "      <td>...</td>\n",
       "      <td>...</td>\n",
       "      <td>...</td>\n",
       "      <td>...</td>\n",
       "      <td>...</td>\n",
       "      <td>...</td>\n",
       "      <td>...</td>\n",
       "      <td>...</td>\n",
       "      <td>...</td>\n",
       "      <td>...</td>\n",
       "      <td>...</td>\n",
       "      <td>...</td>\n",
       "      <td>...</td>\n",
       "    </tr>\n",
       "    <tr>\n",
       "      <td>16242</td>\n",
       "      <td>6</td>\n",
       "      <td>2018.06</td>\n",
       "      <td>16</td>\n",
       "      <td>43</td>\n",
       "      <td>0.0</td>\n",
       "      <td>380</td>\n",
       "      <td>9.0</td>\n",
       "      <td>0</td>\n",
       "      <td>16.0</td>\n",
       "      <td>0.0</td>\n",
       "      <td>...</td>\n",
       "      <td>0.0</td>\n",
       "      <td>16.0</td>\n",
       "      <td>0.0</td>\n",
       "      <td>16.0</td>\n",
       "      <td>0.0</td>\n",
       "      <td>0.0</td>\n",
       "      <td>16.0</td>\n",
       "      <td>1888796.0</td>\n",
       "      <td>101.0</td>\n",
       "      <td>5421.47</td>\n",
       "    </tr>\n",
       "    <tr>\n",
       "      <td>16243</td>\n",
       "      <td>4</td>\n",
       "      <td>2018.04</td>\n",
       "      <td>168</td>\n",
       "      <td>27</td>\n",
       "      <td>6.0</td>\n",
       "      <td>371</td>\n",
       "      <td>14.0</td>\n",
       "      <td>0</td>\n",
       "      <td>168.0</td>\n",
       "      <td>0.0</td>\n",
       "      <td>...</td>\n",
       "      <td>0.0</td>\n",
       "      <td>168.0</td>\n",
       "      <td>0.0</td>\n",
       "      <td>168.0</td>\n",
       "      <td>0.0</td>\n",
       "      <td>0.0</td>\n",
       "      <td>168.0</td>\n",
       "      <td>1715007.0</td>\n",
       "      <td>1755.0</td>\n",
       "      <td>144868.98</td>\n",
       "    </tr>\n",
       "    <tr>\n",
       "      <td>16244</td>\n",
       "      <td>11</td>\n",
       "      <td>2018.11</td>\n",
       "      <td>254</td>\n",
       "      <td>20</td>\n",
       "      <td>13.0</td>\n",
       "      <td>1261</td>\n",
       "      <td>63.0</td>\n",
       "      <td>0</td>\n",
       "      <td>254.0</td>\n",
       "      <td>0.0</td>\n",
       "      <td>...</td>\n",
       "      <td>0.0</td>\n",
       "      <td>254.0</td>\n",
       "      <td>0.0</td>\n",
       "      <td>254.0</td>\n",
       "      <td>0.0</td>\n",
       "      <td>0.0</td>\n",
       "      <td>254.0</td>\n",
       "      <td>1319882.0</td>\n",
       "      <td>16.0</td>\n",
       "      <td>528.64</td>\n",
       "    </tr>\n",
       "    <tr>\n",
       "      <td>16245</td>\n",
       "      <td>3</td>\n",
       "      <td>2017.03</td>\n",
       "      <td>881</td>\n",
       "      <td>82</td>\n",
       "      <td>11.0</td>\n",
       "      <td>2685</td>\n",
       "      <td>33.0</td>\n",
       "      <td>0</td>\n",
       "      <td>881.0</td>\n",
       "      <td>0.0</td>\n",
       "      <td>...</td>\n",
       "      <td>0.0</td>\n",
       "      <td>881.0</td>\n",
       "      <td>0.0</td>\n",
       "      <td>881.0</td>\n",
       "      <td>0.0</td>\n",
       "      <td>0.0</td>\n",
       "      <td>881.0</td>\n",
       "      <td>1033853.0</td>\n",
       "      <td>218.0</td>\n",
       "      <td>11588.50</td>\n",
       "    </tr>\n",
       "    <tr>\n",
       "      <td>16246</td>\n",
       "      <td>3</td>\n",
       "      <td>2017.03</td>\n",
       "      <td>2683</td>\n",
       "      <td>1112</td>\n",
       "      <td>2.0</td>\n",
       "      <td>49505</td>\n",
       "      <td>45.0</td>\n",
       "      <td>0</td>\n",
       "      <td>2683.0</td>\n",
       "      <td>0.0</td>\n",
       "      <td>...</td>\n",
       "      <td>0.0</td>\n",
       "      <td>2683.0</td>\n",
       "      <td>0.0</td>\n",
       "      <td>2683.0</td>\n",
       "      <td>0.0</td>\n",
       "      <td>0.0</td>\n",
       "      <td>2683.0</td>\n",
       "      <td>0.0</td>\n",
       "      <td>179.0</td>\n",
       "      <td>8208.55</td>\n",
       "    </tr>\n",
       "  </tbody>\n",
       "</table>\n",
       "<p>16247 rows × 22 columns</p>\n",
       "</div>"
      ],
      "text/plain": [
       "       month     time  spend_criteo_euro  sales_criteo    CPO  \\\n",
       "0          3  2017.03               1030           168    6.0   \n",
       "1          4  2017.04               1966             4  492.0   \n",
       "2          9  2017.09               1377           168    8.0   \n",
       "3          7  2019.07                 82             4   21.0   \n",
       "4          6  2017.06                 74            20    4.0   \n",
       "...      ...      ...                ...           ...    ...   \n",
       "16242      6  2018.06                 16            43    0.0   \n",
       "16243      4  2018.04                168            27    6.0   \n",
       "16244     11  2018.11                254            20   13.0   \n",
       "16245      3  2017.03                881            82   11.0   \n",
       "16246      3  2017.03               2683          1112    2.0   \n",
       "\n",
       "       revenue_criteo_euro    AOV  COS  Android  MacOS  ...  Desktop  Mobile  \\\n",
       "0                    22929  136.0    0   1030.0    0.0  ...      0.0  1030.0   \n",
       "1                      246   61.0    8   1966.0    0.0  ...      0.0  1966.0   \n",
       "2                     8606   51.0    0   1377.0    0.0  ...      0.0  1377.0   \n",
       "3                       72   18.0    1     82.0    0.0  ...     82.0     0.0   \n",
       "4                     1174   59.0    0     74.0    0.0  ...      0.0    74.0   \n",
       "...                    ...    ...  ...      ...    ...  ...      ...     ...   \n",
       "16242                  380    9.0    0     16.0    0.0  ...      0.0    16.0   \n",
       "16243                  371   14.0    0    168.0    0.0  ...      0.0   168.0   \n",
       "16244                 1261   63.0    0    254.0    0.0  ...      0.0   254.0   \n",
       "16245                 2685   33.0    0    881.0    0.0  ...      0.0   881.0   \n",
       "16246                49505   45.0    0   2683.0    0.0  ...      0.0  2683.0   \n",
       "\n",
       "       app     web  awareness  consideration  conversion   products  \\\n",
       "0      0.0  1030.0        0.0            0.0      1030.0     4500.0   \n",
       "1      0.0  1966.0        0.0            0.0      1966.0     4604.0   \n",
       "2      0.0  1377.0        0.0            0.0      1377.0    13958.0   \n",
       "3      0.0    82.0        0.0            0.0        82.0     4990.0   \n",
       "4      0.0    74.0        0.0            0.0        74.0     5147.0   \n",
       "...    ...     ...        ...            ...         ...        ...   \n",
       "16242  0.0    16.0        0.0            0.0        16.0  1888796.0   \n",
       "16243  0.0   168.0        0.0            0.0       168.0  1715007.0   \n",
       "16244  0.0   254.0        0.0            0.0       254.0  1319882.0   \n",
       "16245  0.0   881.0        0.0            0.0       881.0  1033853.0   \n",
       "16246  0.0  2683.0        0.0            0.0      2683.0        0.0   \n",
       "\n",
       "       onsite_sales  onsite_revenue_euro  \n",
       "0            3093.0            416103.72  \n",
       "1             585.0            183438.72  \n",
       "2           21107.0           3858810.09  \n",
       "3              82.0             11705.52  \n",
       "4             686.0             87426.68  \n",
       "...             ...                  ...  \n",
       "16242         101.0              5421.47  \n",
       "16243        1755.0            144868.98  \n",
       "16244          16.0               528.64  \n",
       "16245         218.0             11588.50  \n",
       "16246         179.0              8208.55  \n",
       "\n",
       "[16247 rows x 22 columns]"
      ]
     },
     "execution_count": 37,
     "metadata": {},
     "output_type": "execute_result"
    }
   ],
   "source": [
    "df[num_cols]"
   ]
  },
  {
   "cell_type": "code",
   "execution_count": 38,
   "metadata": {},
   "outputs": [
    {
     "data": {
      "text/plain": [
       "0        2018.06\n",
       "1        2018.09\n",
       "2        2018.05\n",
       "3        2025.01\n",
       "4        2018.02\n",
       "          ...   \n",
       "16242    2019.12\n",
       "16243    2025.01\n",
       "16244    2025.01\n",
       "16245    2025.01\n",
       "16246    2025.01\n",
       "Name: churn_date, Length: 16247, dtype: float64"
      ]
     },
     "execution_count": 38,
     "metadata": {},
     "output_type": "execute_result"
    }
   ],
   "source": [
    "df['churn_date']"
   ]
  },
  {
   "cell_type": "code",
   "execution_count": 39,
   "metadata": {},
   "outputs": [
    {
     "data": {
      "text/plain": [
       "(14052, 33)"
      ]
     },
     "execution_count": 39,
     "metadata": {},
     "output_type": "execute_result"
    }
   ],
   "source": [
    "#np.seterr(divide='ignore', invalid='ignore')\n",
    "normalized_num_cols = preprocessing.normalize(df[num_cols])\n",
    "normalized_num_cols\n",
    "z = np.abs(stats.zscore(normalized_num_cols))\n",
    "#z = np.delete(z, 6, axis=1)\n",
    "df = df[(compare_nan_array(np.less, z, 3)).all(axis=1)].copy()#\n",
    "df.shape"
   ]
  },
  {
   "cell_type": "code",
   "execution_count": 40,
   "metadata": {},
   "outputs": [
    {
     "data": {
      "text/plain": [
       "index                    int64\n",
       "month                    int64\n",
       "time                   float64\n",
       "vertical                object\n",
       "industry                object\n",
       "client_country          object\n",
       "client_continent        object\n",
       "client_region           object\n",
       "OS                      object\n",
       "device                  object\n",
       "environment             object\n",
       "criteo_product          object\n",
       "spend_criteo_euro        int64\n",
       "sales_criteo             int64\n",
       "CPO                    float64\n",
       "revenue_criteo_euro      int64\n",
       "AOV                    float64\n",
       "COS                      int64\n",
       "churn_date             float64\n",
       "Android                float64\n",
       "MacOS                  float64\n",
       "Other                  float64\n",
       "iOs                    float64\n",
       "Desktop                float64\n",
       "Mobile                 float64\n",
       "app                    float64\n",
       "web                    float64\n",
       "awareness              float64\n",
       "consideration          float64\n",
       "conversion             float64\n",
       "products               float64\n",
       "onsite_sales           float64\n",
       "onsite_revenue_euro    float64\n",
       "dtype: object"
      ]
     },
     "execution_count": 40,
     "metadata": {},
     "output_type": "execute_result"
    }
   ],
   "source": [
    "df.dtypes"
   ]
  },
  {
   "cell_type": "code",
   "execution_count": 41,
   "metadata": {},
   "outputs": [],
   "source": [
    "num_cols = [\n",
    "    'month',\n",
    " 'time',\n",
    " 'spend_criteo_euro',\n",
    " 'sales_criteo',\n",
    " 'CPO',\n",
    " 'revenue_criteo_euro',\n",
    " 'AOV',\n",
    " 'COS',\n",
    " 'Android',\n",
    " 'MacOS',\n",
    " 'Other',\n",
    " 'iOs',\n",
    " 'Desktop',\n",
    " 'Mobile',\n",
    " 'app',\n",
    " 'web',\n",
    " 'awareness',\n",
    " 'consideration',\n",
    " 'conversion',\n",
    " 'products',\n",
    " 'onsite_sales',\n",
    " 'onsite_revenue_euro']\n"
   ]
  },
  {
   "cell_type": "code",
   "execution_count": 42,
   "metadata": {},
   "outputs": [],
   "source": [
    "df[num_cols] = df[num_cols].apply(pd.to_numeric, errors='coerce')"
   ]
  },
  {
   "cell_type": "code",
   "execution_count": 43,
   "metadata": {},
   "outputs": [
    {
     "data": {
      "text/plain": [
       "vertical             3\n",
       "industry            25\n",
       "client_country      34\n",
       "client_continent     3\n",
       "client_region       20\n",
       "OS                   5\n",
       "device               3\n",
       "environment          2\n",
       "criteo_product       3\n",
       "dtype: int64"
      ]
     },
     "execution_count": 43,
     "metadata": {},
     "output_type": "execute_result"
    }
   ],
   "source": [
    "df[cate_cols].apply(lambda x: x.nunique(), axis=0)"
   ]
  },
  {
   "cell_type": "code",
   "execution_count": 44,
   "metadata": {},
   "outputs": [
    {
     "data": {
      "text/plain": [
       "(14052, 33)"
      ]
     },
     "execution_count": 44,
     "metadata": {},
     "output_type": "execute_result"
    }
   ],
   "source": [
    "df.shape"
   ]
  },
  {
   "cell_type": "code",
   "execution_count": 45,
   "metadata": {},
   "outputs": [],
   "source": [
    "X = df.drop(columns=['churn_date', 'index'])\n",
    "y = df['churn_date']"
   ]
  },
  {
   "cell_type": "code",
   "execution_count": 46,
   "metadata": {},
   "outputs": [
    {
     "data": {
      "text/plain": [
       "array([2018.06, 2018.09, 2018.05, 2025.01, 2018.02, 2019.09, 2019.06,\n",
       "       2017.1 , 2018.03, 2018.11, 2017.07, 2019.02, 2018.07, 2018.04,\n",
       "       2019.07, 2017.06, 2017.04, 2018.01, 2019.08, 2019.11, 2018.12,\n",
       "       2019.1 , 2019.01, 2018.1 , 2017.12, 2018.08, 2019.12, 2019.03,\n",
       "       2017.09, 2017.03, 2019.04, 2017.11, 2017.05, 2017.08, 2019.05])"
      ]
     },
     "execution_count": 46,
     "metadata": {},
     "output_type": "execute_result"
    }
   ],
   "source": [
    "df['churn_date'].unique()"
   ]
  },
  {
   "cell_type": "code",
   "execution_count": 47,
   "metadata": {},
   "outputs": [],
   "source": [
    "encoder = preprocessing.LabelEncoder()\n",
    "X['vertical'] = encoder.fit_transform(X['vertical'])\n",
    "X['industry'] = encoder.fit_transform(X['industry'])\n",
    "X['client_country'] = encoder.fit_transform(X['client_country'])\n",
    "X['client_continent'] = encoder.fit_transform(X['client_continent'])\n",
    "X['client_region'] = encoder.fit_transform(X['client_region'])\n",
    "X['OS'] = encoder.fit_transform(X['OS'])\n",
    "X['device'] = encoder.fit_transform(X['device'])\n",
    "X['environment'] = encoder.fit_transform(X['environment'])\n",
    "X['criteo_product'] = encoder.fit_transform(X['criteo_product'])"
   ]
  },
  {
   "cell_type": "code",
   "execution_count": 48,
   "metadata": {},
   "outputs": [
    {
     "data": {
      "text/plain": [
       "Index(['month', 'time', 'vertical', 'industry', 'client_country',\n",
       "       'client_continent', 'client_region', 'OS', 'device', 'environment',\n",
       "       'criteo_product', 'spend_criteo_euro', 'sales_criteo', 'CPO',\n",
       "       'revenue_criteo_euro', 'AOV', 'COS', 'Android', 'MacOS', 'Other', 'iOs',\n",
       "       'Desktop', 'Mobile', 'app', 'web', 'awareness', 'consideration',\n",
       "       'conversion', 'products', 'onsite_sales', 'onsite_revenue_euro'],\n",
       "      dtype='object')"
      ]
     },
     "execution_count": 48,
     "metadata": {},
     "output_type": "execute_result"
    }
   ],
   "source": [
    "X.columns"
   ]
  },
  {
   "cell_type": "code",
   "execution_count": 49,
   "metadata": {},
   "outputs": [
    {
     "name": "stderr",
     "output_type": "stream",
     "text": [
      "/Users/naitochieri/opt/anaconda3/lib/python3.7/site-packages/xgboost/core.py:587: FutureWarning: Series.base is deprecated and will be removed in a future version\n",
      "  if getattr(data, 'base', None) is not None and \\\n",
      "/Users/naitochieri/opt/anaconda3/lib/python3.7/site-packages/xgboost/core.py:588: FutureWarning: Series.base is deprecated and will be removed in a future version\n",
      "  data.base is not None and isinstance(data, np.ndarray) \\\n"
     ]
    }
   ],
   "source": [
    "data_dmatrix = xgb.DMatrix(data=X,label=y)"
   ]
  },
  {
   "cell_type": "code",
   "execution_count": 50,
   "metadata": {},
   "outputs": [],
   "source": [
    "from sklearn.model_selection import train_test_split\n",
    "X_train, X_test, y_train, y_test = train_test_split(X, y, test_size=0.2, random_state=123)"
   ]
  },
  {
   "cell_type": "markdown",
   "metadata": {},
   "source": [
    "## Using Grid Search Cross Validation, find the best parameters"
   ]
  },
  {
   "cell_type": "code",
   "execution_count": 61,
   "metadata": {},
   "outputs": [],
   "source": [
    "gbm = xgb.XGBRegressor()\n",
    "xg_reg = GridSearchCV(gbm, {\"colsample_bytree\":[1.0],\"min_child_weight\":[1.0,1.2],'max_depth': [3,6], 'n_estimators': [500,1000]}, verbose=1)\n"
   ]
  },
  {
   "cell_type": "code",
   "execution_count": 62,
   "metadata": {},
   "outputs": [
    {
     "name": "stdout",
     "output_type": "stream",
     "text": [
      "Fitting 5 folds for each of 2 candidates, totalling 10 fits\n",
      "[12:50:09] WARNING: src/objective/regression_obj.cu:152: reg:linear is now deprecated in favor of reg:squarederror.\n"
     ]
    },
    {
     "name": "stderr",
     "output_type": "stream",
     "text": [
      "[Parallel(n_jobs=1)]: Using backend SequentialBackend with 1 concurrent workers.\n",
      "/Users/naitochieri/opt/anaconda3/lib/python3.7/site-packages/xgboost/core.py:587: FutureWarning: Series.base is deprecated and will be removed in a future version\n",
      "  if getattr(data, 'base', None) is not None and \\\n"
     ]
    },
    {
     "name": "stdout",
     "output_type": "stream",
     "text": [
      "[12:50:19] WARNING: src/objective/regression_obj.cu:152: reg:linear is now deprecated in favor of reg:squarederror.\n"
     ]
    },
    {
     "name": "stderr",
     "output_type": "stream",
     "text": [
      "/Users/naitochieri/opt/anaconda3/lib/python3.7/site-packages/xgboost/core.py:587: FutureWarning: Series.base is deprecated and will be removed in a future version\n",
      "  if getattr(data, 'base', None) is not None and \\\n"
     ]
    },
    {
     "name": "stdout",
     "output_type": "stream",
     "text": [
      "[12:50:29] WARNING: src/objective/regression_obj.cu:152: reg:linear is now deprecated in favor of reg:squarederror.\n"
     ]
    },
    {
     "name": "stderr",
     "output_type": "stream",
     "text": [
      "/Users/naitochieri/opt/anaconda3/lib/python3.7/site-packages/xgboost/core.py:587: FutureWarning: Series.base is deprecated and will be removed in a future version\n",
      "  if getattr(data, 'base', None) is not None and \\\n"
     ]
    },
    {
     "name": "stdout",
     "output_type": "stream",
     "text": [
      "[12:50:38] WARNING: src/objective/regression_obj.cu:152: reg:linear is now deprecated in favor of reg:squarederror.\n"
     ]
    },
    {
     "name": "stderr",
     "output_type": "stream",
     "text": [
      "/Users/naitochieri/opt/anaconda3/lib/python3.7/site-packages/xgboost/core.py:587: FutureWarning: Series.base is deprecated and will be removed in a future version\n",
      "  if getattr(data, 'base', None) is not None and \\\n"
     ]
    },
    {
     "name": "stdout",
     "output_type": "stream",
     "text": [
      "[12:50:47] WARNING: src/objective/regression_obj.cu:152: reg:linear is now deprecated in favor of reg:squarederror.\n"
     ]
    },
    {
     "name": "stderr",
     "output_type": "stream",
     "text": [
      "/Users/naitochieri/opt/anaconda3/lib/python3.7/site-packages/xgboost/core.py:587: FutureWarning: Series.base is deprecated and will be removed in a future version\n",
      "  if getattr(data, 'base', None) is not None and \\\n"
     ]
    },
    {
     "name": "stdout",
     "output_type": "stream",
     "text": [
      "[12:50:57] WARNING: src/objective/regression_obj.cu:152: reg:linear is now deprecated in favor of reg:squarederror.\n"
     ]
    },
    {
     "name": "stderr",
     "output_type": "stream",
     "text": [
      "/Users/naitochieri/opt/anaconda3/lib/python3.7/site-packages/xgboost/core.py:587: FutureWarning: Series.base is deprecated and will be removed in a future version\n",
      "  if getattr(data, 'base', None) is not None and \\\n"
     ]
    },
    {
     "name": "stdout",
     "output_type": "stream",
     "text": [
      "[12:51:07] WARNING: src/objective/regression_obj.cu:152: reg:linear is now deprecated in favor of reg:squarederror.\n"
     ]
    },
    {
     "name": "stderr",
     "output_type": "stream",
     "text": [
      "/Users/naitochieri/opt/anaconda3/lib/python3.7/site-packages/xgboost/core.py:587: FutureWarning: Series.base is deprecated and will be removed in a future version\n",
      "  if getattr(data, 'base', None) is not None and \\\n"
     ]
    },
    {
     "name": "stdout",
     "output_type": "stream",
     "text": [
      "[12:51:17] WARNING: src/objective/regression_obj.cu:152: reg:linear is now deprecated in favor of reg:squarederror.\n"
     ]
    },
    {
     "name": "stderr",
     "output_type": "stream",
     "text": [
      "/Users/naitochieri/opt/anaconda3/lib/python3.7/site-packages/xgboost/core.py:587: FutureWarning: Series.base is deprecated and will be removed in a future version\n",
      "  if getattr(data, 'base', None) is not None and \\\n"
     ]
    },
    {
     "name": "stdout",
     "output_type": "stream",
     "text": [
      "[12:51:26] WARNING: src/objective/regression_obj.cu:152: reg:linear is now deprecated in favor of reg:squarederror.\n"
     ]
    },
    {
     "name": "stderr",
     "output_type": "stream",
     "text": [
      "/Users/naitochieri/opt/anaconda3/lib/python3.7/site-packages/xgboost/core.py:587: FutureWarning: Series.base is deprecated and will be removed in a future version\n",
      "  if getattr(data, 'base', None) is not None and \\\n"
     ]
    },
    {
     "name": "stdout",
     "output_type": "stream",
     "text": [
      "[12:51:36] WARNING: src/objective/regression_obj.cu:152: reg:linear is now deprecated in favor of reg:squarederror.\n"
     ]
    },
    {
     "name": "stderr",
     "output_type": "stream",
     "text": [
      "[Parallel(n_jobs=1)]: Done  10 out of  10 | elapsed:  1.6min finished\n",
      "/Users/naitochieri/opt/anaconda3/lib/python3.7/site-packages/xgboost/core.py:587: FutureWarning: Series.base is deprecated and will be removed in a future version\n",
      "  if getattr(data, 'base', None) is not None and \\\n"
     ]
    },
    {
     "name": "stdout",
     "output_type": "stream",
     "text": [
      "[12:51:45] WARNING: src/objective/regression_obj.cu:152: reg:linear is now deprecated in favor of reg:squarederror.\n"
     ]
    },
    {
     "data": {
      "text/plain": [
       "GridSearchCV(cv=None, error_score=nan,\n",
       "             estimator=XGBRegressor(base_score=0.5, booster='gbtree',\n",
       "                                    colsample_bylevel=1, colsample_bynode=1,\n",
       "                                    colsample_bytree=1, gamma=0,\n",
       "                                    importance_type='gain', learning_rate=0.1,\n",
       "                                    max_delta_step=0, max_depth=3,\n",
       "                                    min_child_weight=1, missing=None,\n",
       "                                    n_estimators=100, n_jobs=1, nthread=None,\n",
       "                                    objective='reg:linear', random_state=0,\n",
       "                                    reg_alpha=0, reg_lambda=1,\n",
       "                                    scale_pos_weight=1, seed=None, silent=None,\n",
       "                                    subsample=1, verbosity=1),\n",
       "             iid='deprecated', n_jobs=None,\n",
       "             param_grid={'colsample_bytree': [1.0], 'max_depth': [3],\n",
       "                         'min_child_weight': [1.0, 1.2],\n",
       "                         'n_estimators': [500]},\n",
       "             pre_dispatch='2*n_jobs', refit=True, return_train_score=False,\n",
       "             scoring=None, verbose=1)"
      ]
     },
     "execution_count": 62,
     "metadata": {},
     "output_type": "execute_result"
    }
   ],
   "source": [
    "xg_reg.fit(X_train,y_train)"
   ]
  },
  {
   "cell_type": "code",
   "execution_count": 63,
   "metadata": {},
   "outputs": [
    {
     "data": {
      "text/plain": [
       "{'colsample_bytree': 1.0,\n",
       " 'max_depth': 3,\n",
       " 'min_child_weight': 1.0,\n",
       " 'n_estimators': 500}"
      ]
     },
     "execution_count": 63,
     "metadata": {},
     "output_type": "execute_result"
    }
   ],
   "source": [
    "xg_reg.best_params_"
   ]
  },
  {
   "cell_type": "markdown",
   "metadata": {},
   "source": [
    "## Train the model with best parameters"
   ]
  },
  {
   "cell_type": "code",
   "execution_count": 64,
   "metadata": {},
   "outputs": [
    {
     "name": "stdout",
     "output_type": "stream",
     "text": [
      "[13:20:37] WARNING: src/objective/regression_obj.cu:152: reg:linear is now deprecated in favor of reg:squarederror.\n"
     ]
    },
    {
     "data": {
      "text/plain": [
       "XGBRegressor(base_score=0.5, booster='gbtree', colsample_bylevel=1,\n",
       "             colsample_bynode=1, colsample_bytree=1.0, gamma=0,\n",
       "             importance_type='gain', learning_rate=0.1, max_delta_step=0,\n",
       "             max_depth=3, min_child_weight=1.0, missing=None, n_estimators=500,\n",
       "             n_jobs=1, nthread=None, objective='reg:linear', random_state=0,\n",
       "             reg_alpha=0, reg_lambda=1, scale_pos_weight=1, seed=None,\n",
       "             silent=None, subsample=1, verbosity=1)"
      ]
     },
     "execution_count": 64,
     "metadata": {},
     "output_type": "execute_result"
    }
   ],
   "source": [
    "gbm = xgb.XGBRegressor(**xg_reg.best_params_)\n",
    "gbm.fit(X_train,y_train)"
   ]
  },
  {
   "cell_type": "code",
   "execution_count": 65,
   "metadata": {},
   "outputs": [
    {
     "data": {
      "text/plain": [
       "array([2022.1375, 2022.3774, 2022.39  , ..., 2022.2303, 2021.3406,\n",
       "       2023.6055], dtype=float32)"
      ]
     },
     "execution_count": 65,
     "metadata": {},
     "output_type": "execute_result"
    }
   ],
   "source": [
    "predictions = gbm.predict(X_test)\n",
    "predictions"
   ]
  },
  {
   "cell_type": "code",
   "execution_count": 66,
   "metadata": {},
   "outputs": [
    {
     "name": "stdout",
     "output_type": "stream",
     "text": [
      "RMSE: 3.111076\n"
     ]
    }
   ],
   "source": [
    "rmse = np.sqrt(mean_squared_error(y_test, predictions))\n",
    "print(\"RMSE: %f\" % (rmse))"
   ]
  },
  {
   "cell_type": "code",
   "execution_count": 67,
   "metadata": {},
   "outputs": [
    {
     "data": {
      "text/plain": [
       "0.3898591951646139"
      ]
     },
     "execution_count": 67,
     "metadata": {},
     "output_type": "execute_result"
    }
   ],
   "source": [
    "#Normalized root-mean-square deviation\n",
    "rmse/(max(df['churn_date'])-min(df['churn_date']))"
   ]
  },
  {
   "cell_type": "code",
   "execution_count": 68,
   "metadata": {},
   "outputs": [
    {
     "data": {
      "text/plain": [
       "<Figure size 640x480 with 1 Axes>"
      ]
     },
     "metadata": {},
     "output_type": "display_data"
    }
   ],
   "source": [
    "import matplotlib.pyplot as plt\n",
    "xgb.plot_importance(gbm, max_num_features=10)\n",
    "plt.rcParams['figure.figsize'] = [10, 10]\n",
    "plt.show()"
   ]
  },
  {
   "cell_type": "code",
   "execution_count": 69,
   "metadata": {},
   "outputs": [
    {
     "name": "stderr",
     "output_type": "stream",
     "text": [
      "Setting feature_perturbation = \"tree_path_dependent\" because no background data was given.\n"
     ]
    },
    {
     "data": {
      "image/png": "[encoded data removed]",
      "text/plain": [
       "<Figure size 576x684 with 2 Axes>"
      ]
     },
     "metadata": {
      "needs_background": "light"
     },
     "output_type": "display_data"
    }
   ],
   "source": [
    "import shap\n",
    "X_importance = X_test\n",
    "\n",
    "# Explain model predictions using shap library:\n",
    "explainer = shap.TreeExplainer(gbm)\n",
    "shap_values = explainer.shap_values(X_importance)\n",
    "shap.summary_plot(shap_values, X_importance)"
   ]
  },
  {
   "cell_type": "code",
   "execution_count": 70,
   "metadata": {},
   "outputs": [
    {
     "data": {
      "image/png": "[encoded data removed]",
      "text/plain": [
       "<Figure size 540x360 with 2 Axes>"
      ]
     },
     "metadata": {
      "needs_background": "light"
     },
     "output_type": "display_data"
    }
   ],
   "source": [
    "shap.dependence_plot(\"products\", shap_values, X_test, alpha = 1)"
   ]
  },
  {
   "cell_type": "markdown",
   "metadata": {},
   "source": [
    "## Now predict the churn date of top 3 clients which were excluded in the beginning with trained model"
   ]
  },
  {
   "cell_type": "code",
   "execution_count": 71,
   "metadata": {},
   "outputs": [],
   "source": [
    "# save the model to disk\n",
    "filename = 'churn_date_model.sav'\n",
    "pickle.dump(xg_reg, open(filename, 'wb'))"
   ]
  },
  {
   "cell_type": "code",
   "execution_count": 72,
   "metadata": {},
   "outputs": [
    {
     "name": "stdout",
     "output_type": "stream",
     "text": [
      "[13:21:02] WARNING: src/objective/regression_obj.cu:152: reg:linear is now deprecated in favor of reg:squarederror.\n"
     ]
    }
   ],
   "source": [
    "model = pickle.load(open(filename, 'rb'))"
   ]
  },
  {
   "cell_type": "code",
   "execution_count": 73,
   "metadata": {},
   "outputs": [
    {
     "data": {
      "text/plain": [
       "Index(['month', 'time', 'vertical', 'industry', 'client_country',\n",
       "       'client_continent', 'client_region', 'OS', 'device', 'environment',\n",
       "       'criteo_product', 'spend_criteo_euro', 'sales_criteo', 'CPO',\n",
       "       'revenue_criteo_euro', 'AOV', 'COS', 'churn_date', 'Android', 'MacOS',\n",
       "       'Other', 'iOs', 'Desktop', 'Mobile', 'app', 'web', 'awareness',\n",
       "       'consideration', 'conversion', 'products', 'onsite_sales',\n",
       "       'onsite_revenue_euro'],\n",
       "      dtype='object')"
      ]
     },
     "execution_count": 73,
     "metadata": {},
     "output_type": "execute_result"
    }
   ],
   "source": [
    "save_top3.columns"
   ]
  },
  {
   "cell_type": "code",
   "execution_count": 74,
   "metadata": {},
   "outputs": [
    {
     "data": {
      "text/plain": [
       "6082     0\n",
       "14463    0\n",
       "12587    0\n",
       "Name: churn_date, dtype: int64"
      ]
     },
     "execution_count": 74,
     "metadata": {},
     "output_type": "execute_result"
    }
   ],
   "source": [
    "save_top3['churn_date']"
   ]
  },
  {
   "cell_type": "code",
   "execution_count": 75,
   "metadata": {},
   "outputs": [
    {
     "data": {
      "text/html": [
       "['month', 'time', 'vertical', 'industry', 'client_country', 'client_continent', 'client_region', 'OS', 'device', 'environment', 'criteo_product', 'spend_criteo_euro', 'sales_criteo', 'CPO', 'revenue_criteo_euro', 'AOV', 'COS', 'churn_date', 'Android', 'MacOS', 'Other', 'iOs', 'Desktop', 'Mobile', 'app', 'web', 'awareness', 'consideration', 'conversion', 'products', 'onsite_sales', 'onsite_revenue_euro']"
      ],
      "text/plain": [
       "['month',\n",
       " 'time',\n",
       " 'vertical',\n",
       " 'industry',\n",
       " 'client_country',\n",
       " 'client_continent',\n",
       " 'client_region',\n",
       " 'OS',\n",
       " 'device',\n",
       " 'environment',\n",
       " 'criteo_product',\n",
       " 'spend_criteo_euro',\n",
       " 'sales_criteo',\n",
       " 'CPO',\n",
       " 'revenue_criteo_euro',\n",
       " 'AOV',\n",
       " 'COS',\n",
       " 'churn_date',\n",
       " 'Android',\n",
       " 'MacOS',\n",
       " 'Other',\n",
       " 'iOs',\n",
       " 'Desktop',\n",
       " 'Mobile',\n",
       " 'app',\n",
       " 'web',\n",
       " 'awareness',\n",
       " 'consideration',\n",
       " 'conversion',\n",
       " 'products',\n",
       " 'onsite_sales',\n",
       " 'onsite_revenue_euro']"
      ]
     },
     "execution_count": 75,
     "metadata": {},
     "output_type": "execute_result"
    }
   ],
   "source": [
    "list(save_top3.columns)"
   ]
  },
  {
   "cell_type": "code",
   "execution_count": 76,
   "metadata": {},
   "outputs": [
    {
     "data": {
      "text/html": [
       "['month', 'time', 'vertical', 'industry', 'client_country', 'client_continent', 'client_region', 'OS', 'device', 'environment', 'criteo_product', 'spend_criteo_euro', 'sales_criteo', 'CPO', 'revenue_criteo_euro', 'AOV', 'COS', 'Android', 'MacOS', 'Other', 'iOs', 'Desktop', 'Mobile', 'app', 'web', 'awareness', 'consideration', 'conversion', 'products', 'onsite_sales', 'onsite_revenue_euro']"
      ],
      "text/plain": [
       "['month',\n",
       " 'time',\n",
       " 'vertical',\n",
       " 'industry',\n",
       " 'client_country',\n",
       " 'client_continent',\n",
       " 'client_region',\n",
       " 'OS',\n",
       " 'device',\n",
       " 'environment',\n",
       " 'criteo_product',\n",
       " 'spend_criteo_euro',\n",
       " 'sales_criteo',\n",
       " 'CPO',\n",
       " 'revenue_criteo_euro',\n",
       " 'AOV',\n",
       " 'COS',\n",
       " 'Android',\n",
       " 'MacOS',\n",
       " 'Other',\n",
       " 'iOs',\n",
       " 'Desktop',\n",
       " 'Mobile',\n",
       " 'app',\n",
       " 'web',\n",
       " 'awareness',\n",
       " 'consideration',\n",
       " 'conversion',\n",
       " 'products',\n",
       " 'onsite_sales',\n",
       " 'onsite_revenue_euro']"
      ]
     },
     "execution_count": 76,
     "metadata": {},
     "output_type": "execute_result"
    }
   ],
   "source": [
    "list(X.columns)"
   ]
  },
  {
   "cell_type": "code",
   "execution_count": 77,
   "metadata": {},
   "outputs": [],
   "source": [
    "X2 = save_top3.drop(columns=['churn_date'])\n",
    "y2 = save_top3['churn_date']"
   ]
  },
  {
   "cell_type": "markdown",
   "metadata": {},
   "source": [
    "# Prediction result for top 3 clients"
   ]
  },
  {
   "cell_type": "code",
   "execution_count": 84,
   "metadata": {},
   "outputs": [
    {
     "data": {
      "text/html": [
       "[(2021, 7), (2021, 3), (2021, 12)]"
      ],
      "text/plain": [
       "[(2021, 7), (2021, 3), (2021, 12)]"
      ]
     },
     "execution_count": 84,
     "metadata": {},
     "output_type": "execute_result"
    }
   ],
   "source": [
    "pred_top3 = model.predict(X2)\n",
    "get_final_date(pred_top3)"
   ]
  },
  {
   "cell_type": "code",
   "execution_count": null,
   "metadata": {},
   "outputs": [],
   "source": []
  }
 ],
 "metadata": {
  "kernelspec": {
   "display_name": "Python 3",
   "language": "python",
   "name": "python3"
  },
  "language_info": {
   "codemirror_mode": {
    "name": "ipython",
    "version": 3
   },
   "file_extension": ".py",
   "mimetype": "text/x-python",
   "name": "python",
   "nbconvert_exporter": "python",
   "pygments_lexer": "ipython3",
   "version": "3.7.4"
  }
 },
 "nbformat": 4,
 "nbformat_minor": 4
}
