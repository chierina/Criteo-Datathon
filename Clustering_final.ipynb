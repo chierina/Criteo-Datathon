{
 "cells": [
  {
   "cell_type": "code",
   "execution_count": 244,
   "metadata": {},
   "outputs": [],
   "source": [
    "import pandas as pd\n",
    "import numpy as np\n",
    "from sklearn.preprocessing import StandardScaler\n",
    "from sklearn.decomposition import PCA\n",
    "from sklearn import preprocessing\n",
    "from scipy import stats\n",
    "from sklearn.preprocessing import StandardScaler\n",
    "from sklearn.cluster import KMeans\n",
    "import matplotlib.pyplot as plt\n",
    "import prince\n",
    "from sklearn.metrics import silhouette_samples, silhouette_score\n",
    "import seaborn as sns\n",
    "import chart_studio.plotly as py\n",
    "import plotly.graph_objs as go\n",
    "from plotly.offline import download_plotlyjs, init_notebook_mode, plot, iplot"
   ]
  },
  {
   "cell_type": "markdown",
   "metadata": {},
   "source": [
    "## Data Preparation for the model"
   ]
  },
  {
   "cell_type": "code",
   "execution_count": 444,
   "metadata": {},
   "outputs": [],
   "source": [
    "pd.set_option('display.max_columns', 500)"
   ]
  },
  {
   "cell_type": "code",
   "execution_count": 445,
   "metadata": {},
   "outputs": [],
   "source": [
    "df = pd.read_csv('/Users/naitochieri/Desktop/Hackathon/Datasets/combined.csv')"
   ]
  },
  {
   "cell_type": "code",
   "execution_count": 446,
   "metadata": {},
   "outputs": [
    {
     "data": {
      "text/plain": [
       "Index(['Unnamed: 0', 'index', 'Unnamed: 0.1', 'Unnamed: 0.1.1', 'account_id_x',\n",
       "       'vertical', 'industry', 'client_country', 'unique_client',\n",
       "       'client_continent', 'client_region', 'OS', 'device', 'environment',\n",
       "       'criteo_product', 'month', 'time', 'year', 'spend_criteo_euro',\n",
       "       'sales_criteo', 'CPO', 'revenue_criteo_euro', 'AOV', 'COS',\n",
       "       'churn_date', 'churn', 'start_time', 'Android', 'MacOS', 'Other',\n",
       "       'Unknown_x', 'iOs', 'Desktop', 'Mobile', 'Unknown_y', 'app', 'web',\n",
       "       'awareness', 'consideration', 'conversion', 'account_id_y', 'products',\n",
       "       'account_id', 'onsite_sales', 'onsite_revenue_euro'],\n",
       "      dtype='object')"
      ]
     },
     "execution_count": 446,
     "metadata": {},
     "output_type": "execute_result"
    }
   ],
   "source": [
    "df.columns"
   ]
  },
  {
   "cell_type": "code",
   "execution_count": 447,
   "metadata": {},
   "outputs": [],
   "source": [
    "X = df[['unique_client','month', 'time', 'vertical', 'industry', 'client_country',\n",
    "       'client_continent', 'client_region', 'OS', 'device', 'environment',\n",
    "       'criteo_product', 'spend_criteo_euro', 'sales_criteo', 'CPO',\n",
    "       'revenue_criteo_euro', 'AOV', 'COS', 'Android', 'MacOS', 'Other', 'iOs',\n",
    "       'Desktop', 'Mobile', 'app', 'web', 'awareness', 'consideration',\n",
    "       'conversion', 'products', 'onsite_sales', 'onsite_revenue_euro','churn_date']]"
   ]
  },
  {
   "cell_type": "code",
   "execution_count": 448,
   "metadata": {},
   "outputs": [],
   "source": [
    "df2 = df[['vertical', 'industry', 'client_country',\n",
    "       'client_continent', 'client_region', 'OS', 'device',\n",
    "       'environment', 'criteo_product', 'month', 'time',\n",
    "         'spend_criteo_euro', 'sales_criteo', 'CPO', 'revenue_criteo_euro',\n",
    "       'AOV', 'COS', 'churn_date']]"
   ]
  },
  {
   "cell_type": "code",
   "execution_count": 449,
   "metadata": {},
   "outputs": [],
   "source": [
    "for i in range(X.shape[0]):\n",
    "    if X.loc[i,'churn_date'] == 0:\n",
    "        X.loc[i,'churn_date'] = int(X['time'][i]) + 5.01\n",
    "        \n",
    "for i in range(df2.shape[0]):\n",
    "    if df2.loc[i,'churn_date'] == 0:\n",
    "        df2.loc[i,'churn_date'] = int(df2['time'][i]) + 5.01"
   ]
  },
  {
   "cell_type": "code",
   "execution_count": 450,
   "metadata": {},
   "outputs": [],
   "source": [
    "num_cols = ['month', 'time',\n",
    "         'spend_criteo_euro', 'sales_criteo', 'CPO', 'revenue_criteo_euro',\n",
    "       'AOV', 'COS']\n",
    "cate_cols = df2.columns.drop('churn_date').drop(num_cols)"
   ]
  },
  {
   "cell_type": "code",
   "execution_count": 451,
   "metadata": {},
   "outputs": [
    {
     "name": "stderr",
     "output_type": "stream",
     "text": [
      "/Users/naitochieri/opt/anaconda3/lib/python3.7/site-packages/pandas/core/frame.py:3494: SettingWithCopyWarning:\n",
      "\n",
      "\n",
      "A value is trying to be set on a copy of a slice from a DataFrame.\n",
      "Try using .loc[row_indexer,col_indexer] = value instead\n",
      "\n",
      "See the caveats in the documentation: http://pandas.pydata.org/pandas-docs/stable/user_guide/indexing.html#returning-a-view-versus-a-copy\n",
      "\n",
      "/Users/naitochieri/opt/anaconda3/lib/python3.7/site-packages/ipykernel_launcher.py:2: SettingWithCopyWarning:\n",
      "\n",
      "\n",
      "A value is trying to be set on a copy of a slice from a DataFrame.\n",
      "Try using .loc[row_indexer,col_indexer] = value instead\n",
      "\n",
      "See the caveats in the documentation: http://pandas.pydata.org/pandas-docs/stable/user_guide/indexing.html#returning-a-view-versus-a-copy\n",
      "\n"
     ]
    }
   ],
   "source": [
    "X[num_cols] = X[num_cols].apply(pd.to_numeric, errors='coerce')\n",
    "X['churn_date'] = X['churn_date'].apply(pd.to_numeric, errors='coerce')"
   ]
  },
  {
   "cell_type": "code",
   "execution_count": 452,
   "metadata": {},
   "outputs": [
    {
     "name": "stderr",
     "output_type": "stream",
     "text": [
      "/Users/naitochieri/opt/anaconda3/lib/python3.7/site-packages/ipykernel_launcher.py:2: SettingWithCopyWarning:\n",
      "\n",
      "\n",
      "A value is trying to be set on a copy of a slice from a DataFrame.\n",
      "Try using .loc[row_indexer,col_indexer] = value instead\n",
      "\n",
      "See the caveats in the documentation: http://pandas.pydata.org/pandas-docs/stable/user_guide/indexing.html#returning-a-view-versus-a-copy\n",
      "\n"
     ]
    }
   ],
   "source": [
    "df2[num_cols] = df2[num_cols].apply(pd.to_numeric, errors='coerce')\n",
    "df2['churn_date'] = df2['churn_date'].apply(pd.to_numeric, errors='coerce')"
   ]
  },
  {
   "cell_type": "code",
   "execution_count": 453,
   "metadata": {},
   "outputs": [],
   "source": [
    "X = X.fillna(0)\n",
    "df2 = df2.fillna(0)"
   ]
  },
  {
   "cell_type": "code",
   "execution_count": 454,
   "metadata": {},
   "outputs": [],
   "source": [
    "eps = 1e-15\n",
    "for i in range(X.shape[0]):\n",
    "    number_dec_str = str(X['churn_date'][i]-int(X['churn_date'][i]))[1:]\n",
    "    number_dec = float(number_dec_str)\n",
    "    for j in range(1,13):\n",
    "            if abs(number_dec - 0.01*j) < eps:\n",
    "                X.loc[i,'churn_date'] = int(X['churn_date'][i]) + j/13\n",
    "\n",
    "eps = 1e-15\n",
    "for i in range(df2.shape[0]):\n",
    "    number_dec_str = str(df2['churn_date'][i]-int(df2['churn_date'][i]))[1:]\n",
    "    number_dec = float(number_dec_str)\n",
    "    for j in range(1,13):\n",
    "            if abs(number_dec - 0.01*j) < eps:\n",
    "                df2.loc[i,'churn_date'] = int(df2['churn_date'][i]) + j/13"
   ]
  },
  {
   "cell_type": "code",
   "execution_count": 455,
   "metadata": {},
   "outputs": [
    {
     "data": {
      "text/plain": [
       "vertical                object\n",
       "industry                object\n",
       "client_country          object\n",
       "client_continent        object\n",
       "client_region           object\n",
       "OS                      object\n",
       "device                  object\n",
       "environment             object\n",
       "criteo_product          object\n",
       "month                    int64\n",
       "time                   float64\n",
       "spend_criteo_euro        int64\n",
       "sales_criteo             int64\n",
       "CPO                    float64\n",
       "revenue_criteo_euro      int64\n",
       "AOV                    float64\n",
       "COS                      int64\n",
       "churn_date             float64\n",
       "dtype: object"
      ]
     },
     "execution_count": 455,
     "metadata": {},
     "output_type": "execute_result"
    }
   ],
   "source": [
    "X2 = df2\n",
    "X2.dtypes"
   ]
  },
  {
   "cell_type": "code",
   "execution_count": 456,
   "metadata": {},
   "outputs": [],
   "source": [
    "X['country_industry'] = X['client_country'] + '_' + X['industry']\n",
    "X2['country_industry'] = X2['client_country'] + '_' + X2['industry']"
   ]
  },
  {
   "cell_type": "markdown",
   "metadata": {},
   "source": [
    "## Predict churn date to calculate tenure using our trained Xgboost regression model"
   ]
  },
  {
   "cell_type": "code",
   "execution_count": 258,
   "metadata": {},
   "outputs": [
    {
     "name": "stdout",
     "output_type": "stream",
     "text": [
      "[11:33:12] WARNING: src/objective/regression_obj.cu:152: reg:linear is now deprecated in favor of reg:squarederror.\n"
     ]
    }
   ],
   "source": [
    "import pickle\n",
    "filename = 'churn_date_model.sav'\n",
    "model = pickle.load(open(filename, 'rb'))"
   ]
  },
  {
   "cell_type": "code",
   "execution_count": 259,
   "metadata": {},
   "outputs": [],
   "source": [
    "def get_pred(X):\n",
    "    X3 = X.drop(columns=['churn_date'])\n",
    "    y = X['churn_date']\n",
    "    encoder = preprocessing.LabelEncoder()\n",
    "    X3['vertical'] = encoder.fit_transform(X['vertical'])\n",
    "    X3['industry'] = encoder.fit_transform(X['industry'])\n",
    "    X3['client_country'] = encoder.fit_transform(X['client_country'])\n",
    "    X3['client_continent'] = encoder.fit_transform(X['client_continent'])\n",
    "    X3['client_region'] = encoder.fit_transform(X['client_region'])\n",
    "    X3['OS'] = encoder.fit_transform(X['OS'])\n",
    "    X3['device'] = encoder.fit_transform(X['device'])\n",
    "    X3['environment'] = encoder.fit_transform(X['environment'])\n",
    "    X3['criteo_product'] = encoder.fit_transform(X['criteo_product'])\n",
    "    #X3['index'] = \"\"\n",
    "    #for i, j in X3.iterrows():\n",
    "       # X3.loc[i, 'index'] = i\n",
    "    cols = ['month', 'time', 'vertical', 'industry', 'client_country', 'client_continent', 'client_region', 'OS', 'device', 'environment', 'criteo_product', 'spend_criteo_euro', 'sales_criteo', 'CPO', 'revenue_criteo_euro', 'AOV', 'COS', 'Android', 'MacOS', 'Other', 'iOs', 'Desktop', 'Mobile', 'app', 'web', 'awareness', 'consideration', 'conversion', 'products', 'onsite_sales', 'onsite_revenue_euro']\n",
    "    X3 = X3[cols]\n",
    "    \n",
    "    return model.predict(X3)"
   ]
  },
  {
   "cell_type": "code",
   "execution_count": 331,
   "metadata": {},
   "outputs": [],
   "source": [
    "## Identify the correct month given a churn date\n",
    "def identify_month(churn_date):\n",
    "    eps = 1e-15\n",
    "    number_dec_str = str(churn_date-int(churn_date))[1:]\n",
    "    number_dec = float(number_dec_str)\n",
    "    entry = False\n",
    "    for j in range(1,13):\n",
    "        if (number_dec < j/13.0 or abs(number_dec - j/13) < eps) and number_dec > (j-1)/13.0:\n",
    "            entry = True\n",
    "            return j\n",
    "    if not entry:\n",
    "        return 12"
   ]
  },
  {
   "cell_type": "code",
   "execution_count": 341,
   "metadata": {},
   "outputs": [],
   "source": [
    "#Identify the churn dates in the format (year, month) for all good clients in each cluster\n",
    "def get_final_date(pred_list):\n",
    "    final_dates = []\n",
    "    for i in range(len(pred_list)):\n",
    "        final_dates.append((int(pred_list[i]), identify_month(pred_list[i])))\n",
    "    return final_dates"
   ]
  },
  {
   "cell_type": "code",
   "execution_count": 342,
   "metadata": {},
   "outputs": [],
   "source": [
    "pred = get_pred(X)\n",
    "churn_date_pred = get_final_date(pred)"
   ]
  },
  {
   "cell_type": "code",
   "execution_count": 343,
   "metadata": {},
   "outputs": [
    {
     "data": {
      "text/html": [
       "<div>\n",
       "<style scoped>\n",
       "    .dataframe tbody tr th:only-of-type {\n",
       "        vertical-align: middle;\n",
       "    }\n",
       "\n",
       "    .dataframe tbody tr th {\n",
       "        vertical-align: top;\n",
       "    }\n",
       "\n",
       "    .dataframe thead th {\n",
       "        text-align: right;\n",
       "    }\n",
       "</style>\n",
       "<table border=\"1\" class=\"dataframe\">\n",
       "  <thead>\n",
       "    <tr style=\"text-align: right;\">\n",
       "      <th></th>\n",
       "      <th>0</th>\n",
       "      <th>1</th>\n",
       "    </tr>\n",
       "  </thead>\n",
       "  <tbody>\n",
       "    <tr>\n",
       "      <td>0</td>\n",
       "      <td>2022</td>\n",
       "      <td>4</td>\n",
       "    </tr>\n",
       "    <tr>\n",
       "      <td>1</td>\n",
       "      <td>2020</td>\n",
       "      <td>3</td>\n",
       "    </tr>\n",
       "    <tr>\n",
       "      <td>2</td>\n",
       "      <td>2022</td>\n",
       "      <td>4</td>\n",
       "    </tr>\n",
       "    <tr>\n",
       "      <td>3</td>\n",
       "      <td>2024</td>\n",
       "      <td>8</td>\n",
       "    </tr>\n",
       "    <tr>\n",
       "      <td>4</td>\n",
       "      <td>2021</td>\n",
       "      <td>5</td>\n",
       "    </tr>\n",
       "    <tr>\n",
       "      <td>...</td>\n",
       "      <td>...</td>\n",
       "      <td>...</td>\n",
       "    </tr>\n",
       "    <tr>\n",
       "      <td>16245</td>\n",
       "      <td>2022</td>\n",
       "      <td>6</td>\n",
       "    </tr>\n",
       "    <tr>\n",
       "      <td>16246</td>\n",
       "      <td>2023</td>\n",
       "      <td>1</td>\n",
       "    </tr>\n",
       "    <tr>\n",
       "      <td>16247</td>\n",
       "      <td>2022</td>\n",
       "      <td>12</td>\n",
       "    </tr>\n",
       "    <tr>\n",
       "      <td>16248</td>\n",
       "      <td>2022</td>\n",
       "      <td>4</td>\n",
       "    </tr>\n",
       "    <tr>\n",
       "      <td>16249</td>\n",
       "      <td>2022</td>\n",
       "      <td>9</td>\n",
       "    </tr>\n",
       "  </tbody>\n",
       "</table>\n",
       "<p>16250 rows × 2 columns</p>\n",
       "</div>"
      ],
      "text/plain": [
       "          0   1\n",
       "0      2022   4\n",
       "1      2020   3\n",
       "2      2022   4\n",
       "3      2024   8\n",
       "4      2021   5\n",
       "...     ...  ..\n",
       "16245  2022   6\n",
       "16246  2023   1\n",
       "16247  2022  12\n",
       "16248  2022   4\n",
       "16249  2022   9\n",
       "\n",
       "[16250 rows x 2 columns]"
      ]
     },
     "execution_count": 343,
     "metadata": {},
     "output_type": "execute_result"
    }
   ],
   "source": [
    "churn_date_pred = pd.DataFrame(data=churn_date_pred, index=X.index)\n",
    "churn_date_pred"
   ]
  },
  {
   "cell_type": "code",
   "execution_count": 335,
   "metadata": {},
   "outputs": [
    {
     "name": "stdout",
     "output_type": "stream",
     "text": [
      "<class 'pandas.core.frame.DataFrame'>\n",
      "RangeIndex: 16250 entries, 0 to 16249\n",
      "Data columns (total 2 columns):\n",
      "0    16250 non-null int64\n",
      "1    16250 non-null int64\n",
      "dtypes: int64(2)\n",
      "memory usage: 254.0 KB\n"
     ]
    }
   ],
   "source": [
    "churn_date_pred.info()"
   ]
  },
  {
   "cell_type": "code",
   "execution_count": 346,
   "metadata": {},
   "outputs": [
    {
     "data": {
      "text/plain": [
       "array([ 4,  3,  8,  5,  7,  6, 10, 11,  2,  9, 12,  1])"
      ]
     },
     "execution_count": 346,
     "metadata": {},
     "output_type": "execute_result"
    }
   ],
   "source": [
    "churn_date_pred[1].unique()"
   ]
  },
  {
   "cell_type": "code",
   "execution_count": 348,
   "metadata": {},
   "outputs": [],
   "source": [
    "churn_date_pred[1] = churn_date_pred[1]*0.01"
   ]
  },
  {
   "cell_type": "code",
   "execution_count": 349,
   "metadata": {},
   "outputs": [
    {
     "data": {
      "text/plain": [
       "0        2022.04\n",
       "1        2020.03\n",
       "2        2022.04\n",
       "3        2024.08\n",
       "4        2021.05\n",
       "          ...   \n",
       "16245    2022.06\n",
       "16246    2023.01\n",
       "16247    2022.12\n",
       "16248    2022.04\n",
       "16249    2022.09\n",
       "Length: 16250, dtype: float64"
      ]
     },
     "execution_count": 349,
     "metadata": {},
     "output_type": "execute_result"
    }
   ],
   "source": [
    "churn_date_pred = churn_date_pred[0] +  churn_date_pred[1]\n",
    "churn_date_pred"
   ]
  },
  {
   "cell_type": "code",
   "execution_count": 351,
   "metadata": {},
   "outputs": [],
   "source": [
    "X['churn_date_pred'] = churn_date_pred"
   ]
  },
  {
   "cell_type": "code",
   "execution_count": 418,
   "metadata": {},
   "outputs": [
    {
     "data": {
      "text/html": [
       "<div>\n",
       "<style scoped>\n",
       "    .dataframe tbody tr th:only-of-type {\n",
       "        vertical-align: middle;\n",
       "    }\n",
       "\n",
       "    .dataframe tbody tr th {\n",
       "        vertical-align: top;\n",
       "    }\n",
       "\n",
       "    .dataframe thead th {\n",
       "        text-align: right;\n",
       "    }\n",
       "</style>\n",
       "<table border=\"1\" class=\"dataframe\">\n",
       "  <thead>\n",
       "    <tr style=\"text-align: right;\">\n",
       "      <th></th>\n",
       "      <th>unique_client</th>\n",
       "      <th>month</th>\n",
       "      <th>time</th>\n",
       "      <th>vertical</th>\n",
       "      <th>industry</th>\n",
       "      <th>client_country</th>\n",
       "      <th>client_continent</th>\n",
       "      <th>client_region</th>\n",
       "      <th>OS</th>\n",
       "      <th>device</th>\n",
       "      <th>environment</th>\n",
       "      <th>criteo_product</th>\n",
       "      <th>spend_criteo_euro</th>\n",
       "      <th>sales_criteo</th>\n",
       "      <th>CPO</th>\n",
       "      <th>revenue_criteo_euro</th>\n",
       "      <th>AOV</th>\n",
       "      <th>COS</th>\n",
       "      <th>Android</th>\n",
       "      <th>MacOS</th>\n",
       "      <th>Other</th>\n",
       "      <th>iOs</th>\n",
       "      <th>Desktop</th>\n",
       "      <th>Mobile</th>\n",
       "      <th>app</th>\n",
       "      <th>web</th>\n",
       "      <th>awareness</th>\n",
       "      <th>consideration</th>\n",
       "      <th>conversion</th>\n",
       "      <th>products</th>\n",
       "      <th>onsite_sales</th>\n",
       "      <th>onsite_revenue_euro</th>\n",
       "      <th>churn_date</th>\n",
       "      <th>country_industry</th>\n",
       "      <th>churn_date_pred</th>\n",
       "      <th>duration</th>\n",
       "    </tr>\n",
       "  </thead>\n",
       "  <tbody>\n",
       "    <tr>\n",
       "      <td>0</td>\n",
       "      <td>ga_bc66d247-ae5d-e311-a5f9-005056bb7e02_RUSSIA...</td>\n",
       "      <td>3</td>\n",
       "      <td>2017.03</td>\n",
       "      <td>RETAIL</td>\n",
       "      <td>Electronics / High Tech</td>\n",
       "      <td>RUSSIAN FEDERATION</td>\n",
       "      <td>EMEA</td>\n",
       "      <td>RUSSIA</td>\n",
       "      <td>Android</td>\n",
       "      <td>Mobile</td>\n",
       "      <td>web</td>\n",
       "      <td>conversion</td>\n",
       "      <td>1030</td>\n",
       "      <td>168</td>\n",
       "      <td>6.0</td>\n",
       "      <td>22929</td>\n",
       "      <td>136.0</td>\n",
       "      <td>0</td>\n",
       "      <td>1030.0</td>\n",
       "      <td>0.0</td>\n",
       "      <td>0.0</td>\n",
       "      <td>0.0</td>\n",
       "      <td>0.0</td>\n",
       "      <td>1030.0</td>\n",
       "      <td>0.0</td>\n",
       "      <td>1030.0</td>\n",
       "      <td>0.0</td>\n",
       "      <td>0.0</td>\n",
       "      <td>1030.0</td>\n",
       "      <td>4500.0</td>\n",
       "      <td>3093.0</td>\n",
       "      <td>416103.72</td>\n",
       "      <td>2018.06</td>\n",
       "      <td>RUSSIAN FEDERATION_Electronics / High Tech</td>\n",
       "      <td>2022.04</td>\n",
       "      <td>5.01</td>\n",
       "    </tr>\n",
       "    <tr>\n",
       "      <td>1</td>\n",
       "      <td>ga_bc784dcb-17fe-e311-a3df-005056bb7e02_CANADA</td>\n",
       "      <td>4</td>\n",
       "      <td>2017.04</td>\n",
       "      <td>RETAIL</td>\n",
       "      <td>Gifts &amp; Flowers</td>\n",
       "      <td>CANADA</td>\n",
       "      <td>AMERICAS</td>\n",
       "      <td>CANADA</td>\n",
       "      <td>Android</td>\n",
       "      <td>Mobile</td>\n",
       "      <td>web</td>\n",
       "      <td>conversion</td>\n",
       "      <td>1966</td>\n",
       "      <td>4</td>\n",
       "      <td>492.0</td>\n",
       "      <td>246</td>\n",
       "      <td>61.0</td>\n",
       "      <td>8</td>\n",
       "      <td>1966.0</td>\n",
       "      <td>0.0</td>\n",
       "      <td>0.0</td>\n",
       "      <td>0.0</td>\n",
       "      <td>0.0</td>\n",
       "      <td>1966.0</td>\n",
       "      <td>0.0</td>\n",
       "      <td>1966.0</td>\n",
       "      <td>0.0</td>\n",
       "      <td>0.0</td>\n",
       "      <td>1966.0</td>\n",
       "      <td>4604.0</td>\n",
       "      <td>585.0</td>\n",
       "      <td>183438.72</td>\n",
       "      <td>2018.09</td>\n",
       "      <td>CANADA_Gifts &amp; Flowers</td>\n",
       "      <td>2020.03</td>\n",
       "      <td>2.99</td>\n",
       "    </tr>\n",
       "    <tr>\n",
       "      <td>2</td>\n",
       "      <td>ga_bc784dcb-17fe-e311-a3df-005056bb7e02_UNITED...</td>\n",
       "      <td>9</td>\n",
       "      <td>2017.09</td>\n",
       "      <td>RETAIL</td>\n",
       "      <td>Gifts &amp; Flowers</td>\n",
       "      <td>UNITED KINGDOM</td>\n",
       "      <td>EMEA</td>\n",
       "      <td>UK</td>\n",
       "      <td>Android</td>\n",
       "      <td>Mobile</td>\n",
       "      <td>web</td>\n",
       "      <td>conversion</td>\n",
       "      <td>1377</td>\n",
       "      <td>168</td>\n",
       "      <td>8.0</td>\n",
       "      <td>8606</td>\n",
       "      <td>51.0</td>\n",
       "      <td>0</td>\n",
       "      <td>1377.0</td>\n",
       "      <td>0.0</td>\n",
       "      <td>0.0</td>\n",
       "      <td>0.0</td>\n",
       "      <td>0.0</td>\n",
       "      <td>1377.0</td>\n",
       "      <td>0.0</td>\n",
       "      <td>1377.0</td>\n",
       "      <td>0.0</td>\n",
       "      <td>0.0</td>\n",
       "      <td>1377.0</td>\n",
       "      <td>13958.0</td>\n",
       "      <td>21107.0</td>\n",
       "      <td>3858810.09</td>\n",
       "      <td>2018.05</td>\n",
       "      <td>UNITED KINGDOM_Gifts &amp; Flowers</td>\n",
       "      <td>2022.04</td>\n",
       "      <td>4.95</td>\n",
       "    </tr>\n",
       "    <tr>\n",
       "      <td>3</td>\n",
       "      <td>ga_bc784dcb-17fe-e311-a3df-005056bb7e02_UNITED...</td>\n",
       "      <td>7</td>\n",
       "      <td>2019.07</td>\n",
       "      <td>RETAIL</td>\n",
       "      <td>Gifts &amp; Flowers</td>\n",
       "      <td>UNITED STATES</td>\n",
       "      <td>AMERICAS</td>\n",
       "      <td>US</td>\n",
       "      <td>Android</td>\n",
       "      <td>Desktop</td>\n",
       "      <td>web</td>\n",
       "      <td>conversion</td>\n",
       "      <td>82</td>\n",
       "      <td>4</td>\n",
       "      <td>21.0</td>\n",
       "      <td>72</td>\n",
       "      <td>18.0</td>\n",
       "      <td>1</td>\n",
       "      <td>82.0</td>\n",
       "      <td>0.0</td>\n",
       "      <td>0.0</td>\n",
       "      <td>0.0</td>\n",
       "      <td>82.0</td>\n",
       "      <td>0.0</td>\n",
       "      <td>0.0</td>\n",
       "      <td>82.0</td>\n",
       "      <td>0.0</td>\n",
       "      <td>0.0</td>\n",
       "      <td>82.0</td>\n",
       "      <td>4990.0</td>\n",
       "      <td>82.0</td>\n",
       "      <td>11705.52</td>\n",
       "      <td>0.00</td>\n",
       "      <td>UNITED STATES_Gifts &amp; Flowers</td>\n",
       "      <td>2024.08</td>\n",
       "      <td>5.01</td>\n",
       "    </tr>\n",
       "    <tr>\n",
       "      <td>4</td>\n",
       "      <td>ga_8fff21b1-4fad-e511-9606-005056bb2344_RUSSIA...</td>\n",
       "      <td>6</td>\n",
       "      <td>2017.06</td>\n",
       "      <td>RETAIL</td>\n",
       "      <td>Accessories / Jewelry / Luxury Goods</td>\n",
       "      <td>RUSSIAN FEDERATION</td>\n",
       "      <td>EMEA</td>\n",
       "      <td>RUSSIA</td>\n",
       "      <td>Android</td>\n",
       "      <td>Mobile</td>\n",
       "      <td>web</td>\n",
       "      <td>conversion</td>\n",
       "      <td>74</td>\n",
       "      <td>20</td>\n",
       "      <td>4.0</td>\n",
       "      <td>1174</td>\n",
       "      <td>59.0</td>\n",
       "      <td>0</td>\n",
       "      <td>74.0</td>\n",
       "      <td>0.0</td>\n",
       "      <td>0.0</td>\n",
       "      <td>0.0</td>\n",
       "      <td>0.0</td>\n",
       "      <td>74.0</td>\n",
       "      <td>0.0</td>\n",
       "      <td>74.0</td>\n",
       "      <td>0.0</td>\n",
       "      <td>0.0</td>\n",
       "      <td>74.0</td>\n",
       "      <td>5147.0</td>\n",
       "      <td>686.0</td>\n",
       "      <td>87426.68</td>\n",
       "      <td>2018.02</td>\n",
       "      <td>RUSSIAN FEDERATION_Accessories / Jewelry / Lux...</td>\n",
       "      <td>2021.05</td>\n",
       "      <td>3.99</td>\n",
       "    </tr>\n",
       "  </tbody>\n",
       "</table>\n",
       "</div>"
      ],
      "text/plain": [
       "                                       unique_client  month     time vertical  \\\n",
       "0  ga_bc66d247-ae5d-e311-a5f9-005056bb7e02_RUSSIA...      3  2017.03   RETAIL   \n",
       "1     ga_bc784dcb-17fe-e311-a3df-005056bb7e02_CANADA      4  2017.04   RETAIL   \n",
       "2  ga_bc784dcb-17fe-e311-a3df-005056bb7e02_UNITED...      9  2017.09   RETAIL   \n",
       "3  ga_bc784dcb-17fe-e311-a3df-005056bb7e02_UNITED...      7  2019.07   RETAIL   \n",
       "4  ga_8fff21b1-4fad-e511-9606-005056bb2344_RUSSIA...      6  2017.06   RETAIL   \n",
       "\n",
       "                               industry      client_country client_continent  \\\n",
       "0               Electronics / High Tech  RUSSIAN FEDERATION             EMEA   \n",
       "1                       Gifts & Flowers              CANADA         AMERICAS   \n",
       "2                       Gifts & Flowers      UNITED KINGDOM             EMEA   \n",
       "3                       Gifts & Flowers       UNITED STATES         AMERICAS   \n",
       "4  Accessories / Jewelry / Luxury Goods  RUSSIAN FEDERATION             EMEA   \n",
       "\n",
       "  client_region       OS   device environment criteo_product  \\\n",
       "0        RUSSIA  Android   Mobile         web     conversion   \n",
       "1        CANADA  Android   Mobile         web     conversion   \n",
       "2            UK  Android   Mobile         web     conversion   \n",
       "3            US  Android  Desktop         web     conversion   \n",
       "4        RUSSIA  Android   Mobile         web     conversion   \n",
       "\n",
       "   spend_criteo_euro  sales_criteo    CPO  revenue_criteo_euro    AOV  COS  \\\n",
       "0               1030           168    6.0                22929  136.0    0   \n",
       "1               1966             4  492.0                  246   61.0    8   \n",
       "2               1377           168    8.0                 8606   51.0    0   \n",
       "3                 82             4   21.0                   72   18.0    1   \n",
       "4                 74            20    4.0                 1174   59.0    0   \n",
       "\n",
       "   Android  MacOS  Other  iOs  Desktop  Mobile  app     web  awareness  \\\n",
       "0   1030.0    0.0    0.0  0.0      0.0  1030.0  0.0  1030.0        0.0   \n",
       "1   1966.0    0.0    0.0  0.0      0.0  1966.0  0.0  1966.0        0.0   \n",
       "2   1377.0    0.0    0.0  0.0      0.0  1377.0  0.0  1377.0        0.0   \n",
       "3     82.0    0.0    0.0  0.0     82.0     0.0  0.0    82.0        0.0   \n",
       "4     74.0    0.0    0.0  0.0      0.0    74.0  0.0    74.0        0.0   \n",
       "\n",
       "   consideration  conversion  products  onsite_sales  onsite_revenue_euro  \\\n",
       "0            0.0      1030.0    4500.0        3093.0            416103.72   \n",
       "1            0.0      1966.0    4604.0         585.0            183438.72   \n",
       "2            0.0      1377.0   13958.0       21107.0           3858810.09   \n",
       "3            0.0        82.0    4990.0          82.0             11705.52   \n",
       "4            0.0        74.0    5147.0         686.0             87426.68   \n",
       "\n",
       "   churn_date                                   country_industry  \\\n",
       "0     2018.06         RUSSIAN FEDERATION_Electronics / High Tech   \n",
       "1     2018.09                             CANADA_Gifts & Flowers   \n",
       "2     2018.05                     UNITED KINGDOM_Gifts & Flowers   \n",
       "3        0.00                      UNITED STATES_Gifts & Flowers   \n",
       "4     2018.02  RUSSIAN FEDERATION_Accessories / Jewelry / Lux...   \n",
       "\n",
       "   churn_date_pred  duration  \n",
       "0          2022.04      5.01  \n",
       "1          2020.03      2.99  \n",
       "2          2022.04      4.95  \n",
       "3          2024.08      5.01  \n",
       "4          2021.05      3.99  "
      ]
     },
     "execution_count": 418,
     "metadata": {},
     "output_type": "execute_result"
    }
   ],
   "source": [
    "X.head()"
   ]
  },
  {
   "cell_type": "code",
   "execution_count": 354,
   "metadata": {},
   "outputs": [],
   "source": [
    "for i in range(X.shape[0]):\n",
    "    X.loc[i,'duration'] = float(X['churn_date_pred'][i]) - X['time'][i]"
   ]
  },
  {
   "cell_type": "markdown",
   "metadata": {},
   "source": [
    "## Dimensionality Reduction with FAMD"
   ]
  },
  {
   "cell_type": "code",
   "execution_count": 17,
   "metadata": {},
   "outputs": [],
   "source": [
    "famd = prince.FAMD(n_components=2,n_iter=3,copy=True,check_input=True,engine='auto',random_state=42)"
   ]
  },
  {
   "cell_type": "code",
   "execution_count": 18,
   "metadata": {},
   "outputs": [
    {
     "name": "stderr",
     "output_type": "stream",
     "text": [
      "/Users/naitochieri/opt/anaconda3/lib/python3.7/site-packages/prince/one_hot.py:35: FutureWarning:\n",
      "\n",
      "SparseDataFrame is deprecated and will be removed in a future version.\n",
      "Use a regular DataFrame whose columns are SparseArrays instead.\n",
      "\n",
      "See http://pandas.pydata.org/pandas-docs/stable/user_guide/sparse.html#migrating for more.\n",
      "\n",
      "\n",
      "/Users/naitochieri/opt/anaconda3/lib/python3.7/site-packages/pandas/core/sparse/frame.py:257: FutureWarning:\n",
      "\n",
      "SparseSeries is deprecated and will be removed in a future version.\n",
      "Use a Series with sparse values instead.\n",
      "\n",
      "    >>> series = pd.Series(pd.SparseArray(...))\n",
      "\n",
      "See http://pandas.pydata.org/pandas-docs/stable/user_guide/sparse.html#migrating for more.\n",
      "\n",
      "\n",
      "/Users/naitochieri/opt/anaconda3/lib/python3.7/site-packages/pandas/core/frame.py:3456: FutureWarning:\n",
      "\n",
      "SparseSeries is deprecated and will be removed in a future version.\n",
      "Use a Series with sparse values instead.\n",
      "\n",
      "    >>> series = pd.Series(pd.SparseArray(...))\n",
      "\n",
      "See http://pandas.pydata.org/pandas-docs/stable/user_guide/sparse.html#migrating for more.\n",
      "\n",
      "\n",
      "/Users/naitochieri/opt/anaconda3/lib/python3.7/site-packages/pandas/core/ops/__init__.py:1641: FutureWarning:\n",
      "\n",
      "SparseSeries is deprecated and will be removed in a future version.\n",
      "Use a Series with sparse values instead.\n",
      "\n",
      "    >>> series = pd.Series(pd.SparseArray(...))\n",
      "\n",
      "See http://pandas.pydata.org/pandas-docs/stable/user_guide/sparse.html#migrating for more.\n",
      "\n",
      "\n",
      "/Users/naitochieri/opt/anaconda3/lib/python3.7/site-packages/pandas/core/sparse/frame.py:339: FutureWarning:\n",
      "\n",
      "SparseDataFrame is deprecated and will be removed in a future version.\n",
      "Use a regular DataFrame whose columns are SparseArrays instead.\n",
      "\n",
      "See http://pandas.pydata.org/pandas-docs/stable/user_guide/sparse.html#migrating for more.\n",
      "\n",
      "\n",
      "/Users/naitochieri/opt/anaconda3/lib/python3.7/site-packages/pandas/core/generic.py:6289: FutureWarning:\n",
      "\n",
      "SparseDataFrame is deprecated and will be removed in a future version.\n",
      "Use a regular DataFrame whose columns are SparseArrays instead.\n",
      "\n",
      "See http://pandas.pydata.org/pandas-docs/stable/user_guide/sparse.html#migrating for more.\n",
      "\n",
      "\n",
      "/Users/naitochieri/opt/anaconda3/lib/python3.7/site-packages/pandas/core/generic.py:5884: FutureWarning:\n",
      "\n",
      "SparseSeries is deprecated and will be removed in a future version.\n",
      "Use a Series with sparse values instead.\n",
      "\n",
      "    >>> series = pd.Series(pd.SparseArray(...))\n",
      "\n",
      "See http://pandas.pydata.org/pandas-docs/stable/user_guide/sparse.html#migrating for more.\n",
      "\n",
      "\n",
      "/Users/naitochieri/opt/anaconda3/lib/python3.7/site-packages/prince/one_hot.py:35: FutureWarning:\n",
      "\n",
      "SparseDataFrame is deprecated and will be removed in a future version.\n",
      "Use a regular DataFrame whose columns are SparseArrays instead.\n",
      "\n",
      "See http://pandas.pydata.org/pandas-docs/stable/user_guide/sparse.html#migrating for more.\n",
      "\n",
      "\n",
      "/Users/naitochieri/opt/anaconda3/lib/python3.7/site-packages/pandas/core/sparse/frame.py:257: FutureWarning:\n",
      "\n",
      "SparseSeries is deprecated and will be removed in a future version.\n",
      "Use a Series with sparse values instead.\n",
      "\n",
      "    >>> series = pd.Series(pd.SparseArray(...))\n",
      "\n",
      "See http://pandas.pydata.org/pandas-docs/stable/user_guide/sparse.html#migrating for more.\n",
      "\n",
      "\n",
      "/Users/naitochieri/opt/anaconda3/lib/python3.7/site-packages/pandas/core/frame.py:3456: FutureWarning:\n",
      "\n",
      "SparseSeries is deprecated and will be removed in a future version.\n",
      "Use a Series with sparse values instead.\n",
      "\n",
      "    >>> series = pd.Series(pd.SparseArray(...))\n",
      "\n",
      "See http://pandas.pydata.org/pandas-docs/stable/user_guide/sparse.html#migrating for more.\n",
      "\n",
      "\n",
      "/Users/naitochieri/opt/anaconda3/lib/python3.7/site-packages/pandas/core/ops/__init__.py:1641: FutureWarning:\n",
      "\n",
      "SparseSeries is deprecated and will be removed in a future version.\n",
      "Use a Series with sparse values instead.\n",
      "\n",
      "    >>> series = pd.Series(pd.SparseArray(...))\n",
      "\n",
      "See http://pandas.pydata.org/pandas-docs/stable/user_guide/sparse.html#migrating for more.\n",
      "\n",
      "\n",
      "/Users/naitochieri/opt/anaconda3/lib/python3.7/site-packages/pandas/core/sparse/frame.py:339: FutureWarning:\n",
      "\n",
      "SparseDataFrame is deprecated and will be removed in a future version.\n",
      "Use a regular DataFrame whose columns are SparseArrays instead.\n",
      "\n",
      "See http://pandas.pydata.org/pandas-docs/stable/user_guide/sparse.html#migrating for more.\n",
      "\n",
      "\n",
      "/Users/naitochieri/opt/anaconda3/lib/python3.7/site-packages/pandas/core/generic.py:392: FutureWarning:\n",
      "\n",
      "SparseDataFrame is deprecated and will be removed in a future version.\n",
      "Use a regular DataFrame whose columns are SparseArrays instead.\n",
      "\n",
      "See http://pandas.pydata.org/pandas-docs/stable/user_guide/sparse.html#migrating for more.\n",
      "\n",
      "\n"
     ]
    }
   ],
   "source": [
    "famd = prince.FAMD(n_components=2,n_iter=3,copy=True,check_input=True,engine='auto',random_state=42)\n",
    "famd = famd.fit(X2)"
   ]
  },
  {
   "cell_type": "code",
   "execution_count": 19,
   "metadata": {},
   "outputs": [
    {
     "name": "stderr",
     "output_type": "stream",
     "text": [
      "/Users/naitochieri/opt/anaconda3/lib/python3.7/site-packages/prince/one_hot.py:35: FutureWarning:\n",
      "\n",
      "SparseDataFrame is deprecated and will be removed in a future version.\n",
      "Use a regular DataFrame whose columns are SparseArrays instead.\n",
      "\n",
      "See http://pandas.pydata.org/pandas-docs/stable/user_guide/sparse.html#migrating for more.\n",
      "\n",
      "\n",
      "/Users/naitochieri/opt/anaconda3/lib/python3.7/site-packages/pandas/core/sparse/frame.py:257: FutureWarning:\n",
      "\n",
      "SparseSeries is deprecated and will be removed in a future version.\n",
      "Use a Series with sparse values instead.\n",
      "\n",
      "    >>> series = pd.Series(pd.SparseArray(...))\n",
      "\n",
      "See http://pandas.pydata.org/pandas-docs/stable/user_guide/sparse.html#migrating for more.\n",
      "\n",
      "\n",
      "/Users/naitochieri/opt/anaconda3/lib/python3.7/site-packages/pandas/core/frame.py:3456: FutureWarning:\n",
      "\n",
      "SparseSeries is deprecated and will be removed in a future version.\n",
      "Use a Series with sparse values instead.\n",
      "\n",
      "    >>> series = pd.Series(pd.SparseArray(...))\n",
      "\n",
      "See http://pandas.pydata.org/pandas-docs/stable/user_guide/sparse.html#migrating for more.\n",
      "\n",
      "\n",
      "/Users/naitochieri/opt/anaconda3/lib/python3.7/site-packages/pandas/core/ops/__init__.py:1641: FutureWarning:\n",
      "\n",
      "SparseSeries is deprecated and will be removed in a future version.\n",
      "Use a Series with sparse values instead.\n",
      "\n",
      "    >>> series = pd.Series(pd.SparseArray(...))\n",
      "\n",
      "See http://pandas.pydata.org/pandas-docs/stable/user_guide/sparse.html#migrating for more.\n",
      "\n",
      "\n",
      "/Users/naitochieri/opt/anaconda3/lib/python3.7/site-packages/pandas/core/sparse/frame.py:339: FutureWarning:\n",
      "\n",
      "SparseDataFrame is deprecated and will be removed in a future version.\n",
      "Use a regular DataFrame whose columns are SparseArrays instead.\n",
      "\n",
      "See http://pandas.pydata.org/pandas-docs/stable/user_guide/sparse.html#migrating for more.\n",
      "\n",
      "\n",
      "/Users/naitochieri/opt/anaconda3/lib/python3.7/site-packages/pandas/core/generic.py:392: FutureWarning:\n",
      "\n",
      "SparseDataFrame is deprecated and will be removed in a future version.\n",
      "Use a regular DataFrame whose columns are SparseArrays instead.\n",
      "\n",
      "See http://pandas.pydata.org/pandas-docs/stable/user_guide/sparse.html#migrating for more.\n",
      "\n",
      "\n"
     ]
    }
   ],
   "source": [
    "X2d = famd.row_coordinates(X2)\n",
    "X2d_arr = X2d.to_numpy()"
   ]
  },
  {
   "cell_type": "code",
   "execution_count": 355,
   "metadata": {},
   "outputs": [],
   "source": [
    "def get_labels_col(X2, column_name):\n",
    "    labels = []\n",
    "    unique_values = list(df[column_name].unique())\n",
    "    for i in range(len(df[column_name])):\n",
    "        for j in range(len(unique_values)):\n",
    "            if X2[column_name][i] == unique_values[j]:\n",
    "                labels.append(j)\n",
    "    return labels"
   ]
  },
  {
   "cell_type": "code",
   "execution_count": 356,
   "metadata": {},
   "outputs": [],
   "source": [
    "labels_industry = get_labels_col(X, 'industry')"
   ]
  },
  {
   "cell_type": "code",
   "execution_count": 357,
   "metadata": {},
   "outputs": [],
   "source": [
    "labels_country = get_labels_col(X, 'client_country')"
   ]
  },
  {
   "cell_type": "markdown",
   "metadata": {},
   "source": [
    "## Plot the distances for country and industry"
   ]
  },
  {
   "cell_type": "code",
   "execution_count": 358,
   "metadata": {},
   "outputs": [
    {
     "data": {
      "text/plain": [
       "<matplotlib.collections.PathCollection at 0x130a1d610>"
      ]
     },
     "execution_count": 358,
     "metadata": {},
     "output_type": "execute_result"
    },
    {
     "data": {
      "image/png": "[encoded data removed]",
      "text/plain": [
       "<Figure size 720x504 with 1 Axes>"
      ]
     },
     "metadata": {
      "needs_background": "light"
     },
     "output_type": "display_data"
    }
   ],
   "source": [
    "plt.figure(figsize=(10, 7))\n",
    "plt.scatter(X2d[0], X2d[1], c = np.asarray(labels_industry).astype(float),s=70, alpha=0.5)"
   ]
  },
  {
   "cell_type": "code",
   "execution_count": 359,
   "metadata": {},
   "outputs": [
    {
     "data": {
      "text/plain": [
       "<matplotlib.collections.PathCollection at 0x130a1c390>"
      ]
     },
     "execution_count": 359,
     "metadata": {},
     "output_type": "execute_result"
    },
    {
     "data": {
      "image/png": "[encoded data removed]",
      "text/plain": [
       "<Figure size 720x504 with 1 Axes>"
      ]
     },
     "metadata": {
      "needs_background": "light"
     },
     "output_type": "display_data"
    }
   ],
   "source": [
    "plt.figure(figsize=(10,7))\n",
    "plt.scatter(X2d[0], X2d[1], c= np.asarray(labels_country).astype(float), s=70, alpha=0.5)"
   ]
  },
  {
   "cell_type": "code",
   "execution_count": 360,
   "metadata": {},
   "outputs": [],
   "source": [
    "def dim_reduction(X2):\n",
    "    famd = prince.FAMD(n_components=2,n_iter=3,copy=True,check_input=True,engine='auto',random_state=42)\n",
    "    famd = famd.fit(X2)\n",
    "    X2d = famd.row_coordinates(X2)\n",
    "    return X2d"
   ]
  },
  {
   "cell_type": "markdown",
   "metadata": {},
   "source": [
    "### Create function to find the best number of cluster to maximize the silhouette score"
   ]
  },
  {
   "cell_type": "code",
   "execution_count": 361,
   "metadata": {},
   "outputs": [],
   "source": [
    "def maximize_cluster_score(X2d, low_value, high_value):\n",
    "    max_score = -1\n",
    "    best_cluster_number = 0\n",
    "    for i in range(low_value, high_value):\n",
    "        kmeans = KMeans(n_clusters=i).fit(X2d)\n",
    "        if silhouette_score(X2d, kmeans.labels_) > max_score:\n",
    "            max_score = silhouette_score(X2d, kmeans.labels_)\n",
    "            best_cluster_number = i\n",
    "    return best_cluster_number, max_score"
   ]
  },
  {
   "cell_type": "markdown",
   "metadata": {},
   "source": [
    "### Create function to run the model "
   ]
  },
  {
   "cell_type": "code",
   "execution_count": 362,
   "metadata": {},
   "outputs": [],
   "source": [
    "def get_clusters_per_column(X2, X2d, class_name, cluster_number):\n",
    "    X2d_column = X2d[X2['country_industry'] == class_name]\n",
    "    kmeans = KMeans(n_clusters=cluster_number).fit(X2d_column)\n",
    "    y_kmeans = kmeans.predict(X2d_column)\n",
    "    plt.figure(figsize=(10,7))\n",
    "    plt.scatter(X2d_column[0], X2d_column[1], c= y_kmeans, s=800, cmap='viridis')\n",
    "    plt.title(class_name)\n",
    "    plt.xlabel(\"x\")\n",
    "    plt.ylabel(\"y\")\n",
    "    return kmeans.labels_, silhouette_score(X2d_column, kmeans.labels_), kmeans.cluster_centers_, X2d_column"
   ]
  },
  {
   "cell_type": "code",
   "execution_count": 363,
   "metadata": {},
   "outputs": [
    {
     "data": {
      "text/plain": [
       "16250"
      ]
     },
     "execution_count": 363,
     "metadata": {},
     "output_type": "execute_result"
    }
   ],
   "source": [
    "len(X2['country_industry'])"
   ]
  },
  {
   "cell_type": "code",
   "execution_count": 364,
   "metadata": {},
   "outputs": [
    {
     "data": {
      "text/plain": [
       "544"
      ]
     },
     "execution_count": 364,
     "metadata": {},
     "output_type": "execute_result"
    }
   ],
   "source": [
    "sum(X2['country_industry'] == 'FRANCE_Apparel')"
   ]
  },
  {
   "cell_type": "code",
   "execution_count": 365,
   "metadata": {},
   "outputs": [
    {
     "data": {
      "text/plain": [
       "407"
      ]
     },
     "execution_count": 365,
     "metadata": {},
     "output_type": "execute_result"
    }
   ],
   "source": [
    "sum(X2['country_industry'] == 'JAPAN_Apparel')"
   ]
  },
  {
   "cell_type": "code",
   "execution_count": 366,
   "metadata": {},
   "outputs": [
    {
     "data": {
      "text/plain": [
       "1224"
      ]
     },
     "execution_count": 366,
     "metadata": {},
     "output_type": "execute_result"
    }
   ],
   "source": [
    "sum(X2['country_industry'] == 'UNITED STATES_Apparel')"
   ]
  },
  {
   "cell_type": "markdown",
   "metadata": {},
   "source": [
    "## Clustering for 3 chosen Country x Industry"
   ]
  },
  {
   "cell_type": "code",
   "execution_count": 367,
   "metadata": {},
   "outputs": [],
   "source": [
    "df_FRANCE_Apparel = X[X['country_industry'] == 'FRANCE_Apparel']\n",
    "df_FRANCE_Apparel_copy = X[X['country_industry'] == 'FRANCE_Apparel']\n",
    "df_FRANCE_Apparel = df_FRANCE_Apparel.reset_index()"
   ]
  },
  {
   "cell_type": "code",
   "execution_count": 368,
   "metadata": {},
   "outputs": [],
   "source": [
    "df_JAPAN_Apparel = X[X['country_industry'] == 'JAPAN_Apparel']\n",
    "df_JAPAN_Apparel_copy = X[X['country_industry'] == 'JAPAN_Apparel']\n",
    "df_JAPAN_Apparel = df_JAPAN_Apparel.reset_index()"
   ]
  },
  {
   "cell_type": "code",
   "execution_count": 369,
   "metadata": {},
   "outputs": [],
   "source": [
    "df_UNITED_STATES_Apparel = X[X['country_industry'] == 'UNITED STATES_Apparel']\n",
    "df_UNITED_STATES_Apparel_copy = X[X['country_industry'] == 'UNITED STATES_Apparel']\n",
    "df_UNITED_STATES_Apparel = df_UNITED_STATES_Apparel.reset_index()"
   ]
  },
  {
   "cell_type": "code",
   "execution_count": 370,
   "metadata": {},
   "outputs": [
    {
     "data": {
      "image/png": "[encoded data removed]",
      "text/plain": [
       "<Figure size 720x504 with 1 Axes>"
      ]
     },
     "metadata": {
      "needs_background": "light"
     },
     "output_type": "display_data"
    }
   ],
   "source": [
    "df_FRANCE_Apparel['labels'], s1, c1, X2d_france = get_clusters_per_column(X, X2d, 'FRANCE_Apparel', 4)"
   ]
  },
  {
   "cell_type": "code",
   "execution_count": 371,
   "metadata": {},
   "outputs": [
    {
     "data": {
      "image/png": "[encoded data removed]",
      "text/plain": [
       "<Figure size 720x504 with 1 Axes>"
      ]
     },
     "metadata": {
      "needs_background": "light"
     },
     "output_type": "display_data"
    }
   ],
   "source": [
    "df_JAPAN_Apparel['labels'], s2, c2, X2d_japan = get_clusters_per_column(X, X2d, 'JAPAN_Apparel', 4)"
   ]
  },
  {
   "cell_type": "code",
   "execution_count": 372,
   "metadata": {},
   "outputs": [
    {
     "data": {
      "image/png": "[encoded data removed]",
      "text/plain": [
       "<Figure size 720x504 with 1 Axes>"
      ]
     },
     "metadata": {
      "needs_background": "light"
     },
     "output_type": "display_data"
    }
   ],
   "source": [
    "df_UNITED_STATES_Apparel['labels'], s3, c3, X2d_us = get_clusters_per_column(X, X2d, 'UNITED STATES_Apparel', 5)"
   ]
  },
  {
   "cell_type": "code",
   "execution_count": 373,
   "metadata": {},
   "outputs": [],
   "source": [
    "df_FRANCE_Apparel.to_csv('FRANCE_Apparel.csv')"
   ]
  },
  {
   "cell_type": "code",
   "execution_count": 374,
   "metadata": {},
   "outputs": [],
   "source": [
    "df_JAPAN_Apparel.to_csv('JAPAN_Apparel.csv')"
   ]
  },
  {
   "cell_type": "code",
   "execution_count": 375,
   "metadata": {},
   "outputs": [],
   "source": [
    "df_UNITED_STATES_Apparel.to_csv('UNITED_STATES_Apparel.csv')"
   ]
  },
  {
   "cell_type": "markdown",
   "metadata": {},
   "source": [
    "# We got very high silhouette score !"
   ]
  },
  {
   "cell_type": "code",
   "execution_count": 419,
   "metadata": {},
   "outputs": [
    {
     "name": "stdout",
     "output_type": "stream",
     "text": [
      "0.9902152699203981 0.9907748642383635 0.989359765960901\n"
     ]
    }
   ],
   "source": [
    "print(s1,s2,s3)"
   ]
  },
  {
   "cell_type": "code",
   "execution_count": 420,
   "metadata": {},
   "outputs": [],
   "source": [
    "ind_france = list((X[X['country_industry'] == 'FRANCE_Apparel']).index)"
   ]
  },
  {
   "cell_type": "code",
   "execution_count": 421,
   "metadata": {},
   "outputs": [],
   "source": [
    "ind_japan = list((X[X['country_industry'] == 'JAPAN_Apparel']).index)"
   ]
  },
  {
   "cell_type": "code",
   "execution_count": 422,
   "metadata": {},
   "outputs": [],
   "source": [
    "ind_us = list((X[X['country_industry'] == 'UNITED STATES_Apparel']).index)"
   ]
  },
  {
   "cell_type": "code",
   "execution_count": 423,
   "metadata": {},
   "outputs": [],
   "source": [
    "## Map new indices to the old ones\n",
    "def get_dict(ind, length):\n",
    "    new_dict = dict()\n",
    "    for i in range(length):\n",
    "        new_dict[i] = ind[i]\n",
    "    return new_dict"
   ]
  },
  {
   "cell_type": "code",
   "execution_count": 424,
   "metadata": {},
   "outputs": [],
   "source": [
    "dict_france = get_dict(ind_france, df_FRANCE_Apparel.shape[0])\n",
    "dict_japan = get_dict(ind_japan, df_JAPAN_Apparel.shape[0])\n",
    "dict_us = get_dict(ind_us, df_UNITED_STATES_Apparel.shape[0])"
   ]
  },
  {
   "cell_type": "markdown",
   "metadata": {},
   "source": [
    "## Get average clients in each cluster"
   ]
  },
  {
   "cell_type": "code",
   "execution_count": 425,
   "metadata": {},
   "outputs": [],
   "source": [
    "def get_average_clients(df, X2d, centroids):\n",
    "    row_labels = []\n",
    "    labels = list(df['labels'])\n",
    "    for label in set(labels):\n",
    "        row_list = []\n",
    "        for i in range(len(X2d)):\n",
    "            if labels[i] == label:\n",
    "                row_list.append(i)\n",
    "        row_labels.append(row_list)\n",
    "    \n",
    "    average_clients = []\n",
    "    for i in range(len(centroids)):\n",
    "        min_dist = -1\n",
    "        ind_min = 0\n",
    "        for j in range(len(row_labels[i])):\n",
    "            if min_dist == -1 or (X2d[row_labels[i][j]][0] - centroids[i][0])*(X2d[row_labels[i][j]][0] - centroids[i][0]) + (X2d[row_labels[i][j]][1] - centroids[i][1])*(X2d[row_labels[i][j]][1] - centroids[i][1]) < min_dist:\n",
    "                min_dist = (X2d[row_labels[i][j]][0] - centroids[i][0])*(X2d[row_labels[i][j]][0] - centroids[i][0]) + (X2d[row_labels[i][j]][1] - centroids[i][1])*(X2d[row_labels[i][j]][1] - centroids[i][1])\n",
    "                ind_min = row_labels[i][j]\n",
    "        average_clients.append(ind_min)\n",
    "    return average_clients"
   ]
  },
  {
   "cell_type": "code",
   "execution_count": 426,
   "metadata": {},
   "outputs": [],
   "source": [
    "X2d_france_arr = X2d_france.to_numpy()\n",
    "X2d_japan_arr = X2d_japan.to_numpy()\n",
    "X2d_us_arr = X2d_us.to_numpy()"
   ]
  },
  {
   "cell_type": "code",
   "execution_count": 427,
   "metadata": {},
   "outputs": [],
   "source": [
    "#Getting number of clusters that maximizes silhouette score\n",
    "c_france = maximize_cluster_score(X2d_france, 3, 30)\n",
    "c_japan = maximize_cluster_score(X2d_japan, 3, 30)\n",
    "c_us = maximize_cluster_score(X2d_us, 3, 30)"
   ]
  },
  {
   "cell_type": "code",
   "execution_count": 428,
   "metadata": {},
   "outputs": [
    {
     "name": "stdout",
     "output_type": "stream",
     "text": [
      "(9, 0.9981490564462092) (8, 0.9998422306115123) (11, 0.9975237156053496)\n"
     ]
    }
   ],
   "source": [
    "print(c_france, c_japan, c_us)"
   ]
  },
  {
   "cell_type": "code",
   "execution_count": 429,
   "metadata": {},
   "outputs": [],
   "source": [
    "average_clients_france = get_average_clients(df_FRANCE_Apparel, X2d_france_arr, c1)\n",
    "average_clients_japan = get_average_clients(df_JAPAN_Apparel, X2d_japan_arr, c2)\n",
    "average_clients_us = get_average_clients(df_UNITED_STATES_Apparel, X2d_us_arr, c3)"
   ]
  },
  {
   "cell_type": "code",
   "execution_count": 387,
   "metadata": {},
   "outputs": [],
   "source": [
    "#Getting indices for clients in the original dataset\n",
    "def get_index_client(dict_var, expected_var):\n",
    "    index_client = []\n",
    "    for i in range(len(expected_var)):\n",
    "        index_client.append(dict_var[expected_var[i]])\n",
    "    return index_client"
   ]
  },
  {
   "cell_type": "code",
   "execution_count": 388,
   "metadata": {},
   "outputs": [],
   "source": [
    "ind_exp_france = get_index_client(dict_france, average_clients_france)\n",
    "ind_exp_japan = get_index_client(dict_japan, average_clients_japan)\n",
    "ind_exp_us = get_index_client(dict_us, average_clients_us)"
   ]
  },
  {
   "cell_type": "code",
   "execution_count": 389,
   "metadata": {},
   "outputs": [
    {
     "data": {
      "text/plain": [
       "[7923, 9524, 10303, 1540]"
      ]
     },
     "execution_count": 389,
     "metadata": {},
     "output_type": "execute_result"
    }
   ],
   "source": [
    "ind_exp_france"
   ]
  },
  {
   "cell_type": "code",
   "execution_count": 390,
   "metadata": {},
   "outputs": [
    {
     "data": {
      "text/plain": [
       "[15937, 14677, 12847, 1411]"
      ]
     },
     "execution_count": 390,
     "metadata": {},
     "output_type": "execute_result"
    }
   ],
   "source": [
    "ind_exp_japan"
   ]
  },
  {
   "cell_type": "code",
   "execution_count": 391,
   "metadata": {},
   "outputs": [
    {
     "data": {
      "text/plain": [
       "[8721, 14139, 14398, 12039, 4142]"
      ]
     },
     "execution_count": 391,
     "metadata": {},
     "output_type": "execute_result"
    }
   ],
   "source": [
    "ind_exp_us"
   ]
  },
  {
   "cell_type": "code",
   "execution_count": 392,
   "metadata": {},
   "outputs": [],
   "source": [
    "##Get clients in the original dataset\n",
    "def get_clients(ind_exp):\n",
    "    clients = []\n",
    "    for i in range(len(ind_exp)):\n",
    "        clients.append(X['unique_client'][ind_exp[i]])\n",
    "    return clients"
   ]
  },
  {
   "cell_type": "code",
   "execution_count": 393,
   "metadata": {},
   "outputs": [],
   "source": [
    "clients_france = get_clients(ind_exp_france)\n",
    "clients_japan = get_clients(ind_exp_japan)\n",
    "clients_us = get_clients(ind_exp_us)"
   ]
  },
  {
   "cell_type": "code",
   "execution_count": 394,
   "metadata": {},
   "outputs": [
    {
     "data": {
      "text/plain": [
       "['ga_a2c851c7-7c38-e211-9847-000c29ae377c_FRANCE',\n",
       " 'ga_1acf51c7-7c38-e211-9847-000c29ae377c_FRANCE',\n",
       " 'ga_db07009b-ed73-e511-9606-005056bb2344_FRANCE',\n",
       " '962e4ce2-4b06-3c00-eba7-1a2717783027_FRANCE']"
      ]
     },
     "execution_count": 394,
     "metadata": {},
     "output_type": "execute_result"
    }
   ],
   "source": [
    "clients_france"
   ]
  },
  {
   "cell_type": "code",
   "execution_count": 395,
   "metadata": {},
   "outputs": [
    {
     "data": {
      "text/plain": [
       "['ga_8fd2bab0-9fb5-e511-9606-005056bb2344_JAPAN',\n",
       " 'ga_da1733da-7c38-e211-9847-000c29ae377c_JAPAN',\n",
       " 'c9dcf697-5b42-bea2-4410-08634a484fed_JAPAN',\n",
       " 'ga_98ad51c7-7c38-e211-9847-000c29ae377c_JAPAN']"
      ]
     },
     "execution_count": 395,
     "metadata": {},
     "output_type": "execute_result"
    }
   ],
   "source": [
    "clients_japan"
   ]
  },
  {
   "cell_type": "code",
   "execution_count": 396,
   "metadata": {},
   "outputs": [
    {
     "data": {
      "text/plain": [
       "['ga_a5cce4c2-33a6-e311-b5d4-005056bb7e02_UNITED STATES',\n",
       " 'ga_51106280-082b-e511-9606-005056bb2344_UNITED STATES',\n",
       " 'ga_8e7a133d-fbda-e511-9606-005056bb2344_UNITED STATES',\n",
       " 'ga_506bb33e-88a5-e411-b0d2-005056bb7e02_UNITED STATES',\n",
       " 'eb63f8dc-5363-c395-eb56-ea2246c5cf21_UNITED STATES']"
      ]
     },
     "execution_count": 396,
     "metadata": {},
     "output_type": "execute_result"
    }
   ],
   "source": [
    "clients_us"
   ]
  },
  {
   "cell_type": "code",
   "execution_count": 397,
   "metadata": {},
   "outputs": [],
   "source": [
    "df_france_clients = X.iloc[ind_exp_france,:]\n",
    "df_japan_clients = X.iloc[ind_exp_japan,:]\n",
    "df_us_clients = X.iloc[ind_exp_us,:]"
   ]
  },
  {
   "cell_type": "code",
   "execution_count": 398,
   "metadata": {},
   "outputs": [],
   "source": [
    "df_france_clients.to_csv('france_clients.csv')\n",
    "df_japan_clients.to_csv('japan_clients.csv')\n",
    "df_us_clients.to_csv('us_clients.csv')"
   ]
  },
  {
   "cell_type": "markdown",
   "metadata": {},
   "source": [
    "## Get best client in each cluster"
   ]
  },
  {
   "cell_type": "code",
   "execution_count": 399,
   "metadata": {},
   "outputs": [],
   "source": [
    "df_FRANCE_Apparel = df_FRANCE_Apparel.fillna(0)\n",
    "for i in range(df_FRANCE_Apparel.shape[0]):\n",
    "    df_FRANCE_Apparel.loc[i,'duration'] = float(df_FRANCE_Apparel['churn_date_pred'][i]) - float(df_FRANCE_Apparel['time'][i])\n",
    "\n",
    "    \n",
    "df_JAPAN_Apparel = df_JAPAN_Apparel.fillna(0)\n",
    "for i in range(df_JAPAN_Apparel.shape[0]):\n",
    "    df_JAPAN_Apparel.loc[i,'duration'] = float(df_JAPAN_Apparel['churn_date_pred'][i]) - float(df_JAPAN_Apparel['time'][i])\n",
    "    \n",
    "    \n",
    "df_UNITED_STATES_Apparel = df_UNITED_STATES_Apparel.fillna(0)\n",
    "for i in range(df_UNITED_STATES_Apparel.shape[0]):\n",
    "    df_UNITED_STATES_Apparel.loc[i,'duration'] = float(df_UNITED_STATES_Apparel['churn_date_pred'][i]) - float(df_UNITED_STATES_Apparel['time'][i])\n",
    "    "
   ]
  },
  {
   "cell_type": "code",
   "execution_count": 400,
   "metadata": {},
   "outputs": [],
   "source": [
    "def rep_clients_per_cluster_FR(df_FRANCE_Apparel):\n",
    "    best_clients = []\n",
    "    labels = list(df_FRANCE_Apparel['labels'])\n",
    "    set_labels = set(labels)\n",
    "    labels_quant = len(set_labels)\n",
    "    for i in range(labels_quant):\n",
    "        df_cluster = df_FRANCE_Apparel[df_FRANCE_Apparel['labels'] == i]\n",
    "        min_churn_date = -1\n",
    "        max_churn_date = -1\n",
    "        ind_min = 0\n",
    "        ind_max = 0\n",
    "        for j, row in df_cluster.iterrows():\n",
    "            if df_cluster['duration'][j] > max_churn_date:\n",
    "                max_churn_date = df_cluster['duration'][j]\n",
    "                ind_max = j\n",
    "            if min_churn_date == -1 or df_cluster['duration'][j] < min_churn_date:\n",
    "                min_churn_date = df_cluster['duration'][j]\n",
    "                ind_min = j\n",
    "        best_clients.append(ind_max)\n",
    "    return (best_clients)\n",
    "\n",
    "\n",
    "def rep_clients_per_cluster_JP(df_JAPAN_Apparel):\n",
    "    best_clients = []\n",
    "    labels = list(df_JAPAN_Apparel['labels'])\n",
    "    set_labels = set(labels)\n",
    "    labels_quant = len(set_labels)\n",
    "    for i in range(labels_quant):\n",
    "        df_cluster = df_JAPAN_Apparel[df_JAPAN_Apparel['labels'] == i]\n",
    "        min_churn_date = -1\n",
    "        max_churn_date = -1\n",
    "        ind_min = 0\n",
    "        ind_max = 0\n",
    "        for j, row in df_cluster.iterrows():\n",
    "            if df_cluster['duration'][j] > max_churn_date:\n",
    "                max_churn_date = df_cluster['duration'][j]\n",
    "                ind_max = j\n",
    "            if min_churn_date == -1 or df_cluster['duration'][j] < min_churn_date:\n",
    "                min_churn_date = df_cluster['duration'][j]\n",
    "                ind_min = j\n",
    "        best_clients.append(ind_max)\n",
    "    return (best_clients)\n",
    "\n",
    "def rep_clients_per_cluster_US(df_UNITED_STATES_Apparel):\n",
    "    best_clients = []\n",
    "    labels = list(df_UNITED_STATES_Apparel['labels'])\n",
    "    set_labels = set(labels)\n",
    "    labels_quant = len(set_labels)\n",
    "    for i in range(labels_quant):\n",
    "        df_cluster = df_UNITED_STATES_Apparel[df_UNITED_STATES_Apparel['labels'] == i]\n",
    "        min_churn_date = -1\n",
    "        max_churn_date = -1\n",
    "        ind_min = 0\n",
    "        ind_max = 0\n",
    "        for j, row in df_cluster.iterrows():\n",
    "            if df_cluster['duration'][j] > max_churn_date:\n",
    "                max_churn_date = df_cluster['duration'][j]\n",
    "                ind_max = j\n",
    "            if min_churn_date == -1 or df_cluster['duration'][j] < min_churn_date:\n",
    "                min_churn_date = df_cluster['duration'][j]\n",
    "                ind_min = j\n",
    "        best_clients.append(ind_max)\n",
    "    return (best_clients)"
   ]
  },
  {
   "cell_type": "code",
   "execution_count": 401,
   "metadata": {},
   "outputs": [],
   "source": [
    "best_clients_france = rep_clients_per_cluster_FR(df_FRANCE_Apparel)"
   ]
  },
  {
   "cell_type": "code",
   "execution_count": 402,
   "metadata": {},
   "outputs": [
    {
     "data": {
      "text/plain": [
       "[146, 37, 539, 44]"
      ]
     },
     "execution_count": 402,
     "metadata": {},
     "output_type": "execute_result"
    }
   ],
   "source": [
    "#Indices in the cluster dataframe\n",
    "best_clients_france"
   ]
  },
  {
   "cell_type": "code",
   "execution_count": 403,
   "metadata": {},
   "outputs": [],
   "source": [
    "best_clients_japan = rep_clients_per_cluster_JP(df_JAPAN_Apparel)"
   ]
  },
  {
   "cell_type": "code",
   "execution_count": 404,
   "metadata": {},
   "outputs": [
    {
     "data": {
      "text/plain": [
       "[260, 90, 399, 140]"
      ]
     },
     "execution_count": 404,
     "metadata": {},
     "output_type": "execute_result"
    }
   ],
   "source": [
    "#Indices in the cluster dataframe\n",
    "best_clients_japan"
   ]
  },
  {
   "cell_type": "code",
   "execution_count": 405,
   "metadata": {},
   "outputs": [],
   "source": [
    "best_clients_us = rep_clients_per_cluster_US(df_UNITED_STATES_Apparel)"
   ]
  },
  {
   "cell_type": "code",
   "execution_count": 406,
   "metadata": {},
   "outputs": [
    {
     "data": {
      "text/plain": [
       "[731, 367, 1208, 28, 320]"
      ]
     },
     "execution_count": 406,
     "metadata": {},
     "output_type": "execute_result"
    }
   ],
   "source": [
    "#Indices in the cluster dataframe\n",
    "best_clients_us"
   ]
  },
  {
   "cell_type": "code",
   "execution_count": 407,
   "metadata": {},
   "outputs": [],
   "source": [
    "#Indices in the original dataframe\n",
    "ind_best_france = get_index_client(dict_france, best_clients_france)\n",
    "ind_best_japan = get_index_client(dict_japan, best_clients_japan)\n",
    "ind_best_us = get_index_client(dict_us, best_clients_us)"
   ]
  },
  {
   "cell_type": "code",
   "execution_count": 408,
   "metadata": {},
   "outputs": [
    {
     "data": {
      "text/plain": [
       "[4632, 1326, 16023, 1540]"
      ]
     },
     "execution_count": 408,
     "metadata": {},
     "output_type": "execute_result"
    }
   ],
   "source": [
    "ind_best_france"
   ]
  },
  {
   "cell_type": "markdown",
   "metadata": {},
   "source": [
    "## Append clients IDs to he original dataframe"
   ]
  },
  {
   "cell_type": "code",
   "execution_count": 409,
   "metadata": {},
   "outputs": [
    {
     "data": {
      "text/plain": [
       "['5a9f9ccf-e847-9940-4823-ce747bd2e6d2_FRANCE',\n",
       " 'ga_cc58808f-1ee3-e411-9606-005056bb2344_FRANCE',\n",
       " 'ga_3d322f95-123b-e211-9847-000c29ae377c_FRANCE',\n",
       " '962e4ce2-4b06-3c00-eba7-1a2717783027_FRANCE']"
      ]
     },
     "execution_count": 409,
     "metadata": {},
     "output_type": "execute_result"
    }
   ],
   "source": [
    "get_clients(ind_best_france)"
   ]
  },
  {
   "cell_type": "code",
   "execution_count": 410,
   "metadata": {},
   "outputs": [
    {
     "data": {
      "text/plain": [
       "['8df3cd43-e950-7919-30f7-169a5758563a_JAPAN',\n",
       " 'ga_7cc451c7-7c38-e211-9847-000c29ae377c_JAPAN',\n",
       " 'ga_3d322f95-123b-e211-9847-000c29ae377c_JAPAN',\n",
       " '1f04248e-5506-30d7-dabf-27eee12f8ad2_JAPAN']"
      ]
     },
     "execution_count": 410,
     "metadata": {},
     "output_type": "execute_result"
    }
   ],
   "source": [
    "get_clients(ind_best_japan)"
   ]
  },
  {
   "cell_type": "code",
   "execution_count": 411,
   "metadata": {},
   "outputs": [
    {
     "data": {
      "text/plain": [
       "['ga_e2824d59-5d7a-e411-b0d2-005056bb7e02_UNITED STATES',\n",
       " 'ga_96bc51c7-7c38-e211-9847-000c29ae377c_UNITED STATES',\n",
       " 'ga_3d322f95-123b-e211-9847-000c29ae377c_UNITED STATES',\n",
       " 'ga_ed7d17e4-aa86-e211-a813-005056bb2836_UNITED STATES',\n",
       " 'eb63f8dc-5363-c395-eb56-ea2246c5cf21_UNITED STATES']"
      ]
     },
     "execution_count": 411,
     "metadata": {},
     "output_type": "execute_result"
    }
   ],
   "source": [
    "get_clients(ind_best_us)"
   ]
  },
  {
   "cell_type": "code",
   "execution_count": 412,
   "metadata": {},
   "outputs": [],
   "source": [
    "df_france_best = X.iloc[ind_best_france,:]\n",
    "df_japan_best = X.iloc[ind_best_japan,:]\n",
    "df_us_best = X.iloc[ind_best_us,:]"
   ]
  },
  {
   "cell_type": "code",
   "execution_count": 413,
   "metadata": {},
   "outputs": [],
   "source": [
    "df_france_best.to_csv('france_best.csv')\n",
    "df_japan_best.to_csv('japan_best.csv')\n",
    "df_us_best.to_csv('us_best.csv')"
   ]
  },
  {
   "cell_type": "markdown",
   "metadata": {},
   "source": [
    "# Indicate the difference between the best and the average client by country, indusrty, cluster, to suggest next strategy"
   ]
  },
  {
   "cell_type": "code",
   "execution_count": 459,
   "metadata": {},
   "outputs": [
    {
     "data": {
      "text/plain": [
       "Index(['unique_client', 'month', 'time', 'vertical', 'industry',\n",
       "       'client_country', 'client_continent', 'client_region', 'OS', 'device',\n",
       "       'environment', 'criteo_product', 'spend_criteo_euro', 'sales_criteo',\n",
       "       'CPO', 'revenue_criteo_euro', 'AOV', 'COS', 'Android', 'MacOS', 'Other',\n",
       "       'iOs', 'Desktop', 'Mobile', 'app', 'web', 'awareness', 'consideration',\n",
       "       'conversion', 'products', 'onsite_sales', 'onsite_revenue_euro',\n",
       "       'churn_date', 'country_industry'],\n",
       "      dtype='object')"
      ]
     },
     "execution_count": 459,
     "metadata": {},
     "output_type": "execute_result"
    }
   ],
   "source": [
    "X.columns"
   ]
  },
  {
   "cell_type": "code",
   "execution_count": 460,
   "metadata": {},
   "outputs": [],
   "source": [
    "df3 = X[['spend_criteo_euro', 'sales_criteo',\n",
    "       'CPO', 'revenue_criteo_euro', 'AOV', 'COS', 'Android', 'MacOS', 'Other',\n",
    "       'iOs', 'Desktop', 'Mobile', 'app', 'web', 'awareness', 'consideration',\n",
    "       'conversion', 'products', 'onsite_sales', 'onsite_revenue_euro',\n",
    "       'country_industry']]"
   ]
  },
  {
   "cell_type": "code",
   "execution_count": 465,
   "metadata": {},
   "outputs": [
    {
     "data": {
      "text/plain": [
       "Index(['spend_criteo_euro', 'sales_criteo', 'CPO', 'revenue_criteo_euro',\n",
       "       'AOV', 'COS', 'Android', 'MacOS', 'Other', 'iOs', 'Desktop', 'Mobile',\n",
       "       'app', 'web', 'awareness', 'consideration', 'conversion', 'products',\n",
       "       'onsite_sales', 'onsite_revenue_euro', 'country_industry'],\n",
       "      dtype='object')"
      ]
     },
     "execution_count": 465,
     "metadata": {},
     "output_type": "execute_result"
    }
   ],
   "source": [
    "df3.columns"
   ]
  },
  {
   "cell_type": "code",
   "execution_count": 466,
   "metadata": {},
   "outputs": [],
   "source": [
    "def indicate_changements(df3, average_clients, best_clients):\n",
    "    for i in range(len(average_clients)):\n",
    "        print('Difference from the Best Client ', i)\n",
    "        for column in df3:\n",
    "            if column != 'client_country' and column != 'client_region' and column != 'time' and column != 'unique_client' and column != 'churn_date':\n",
    "                if df3[column][average_clients[i]] != df3[column][best_clients[i]]:\n",
    "                    print('change value', column, 'to ', df3[column][best_clients[i]])"
   ]
  },
  {
   "cell_type": "code",
   "execution_count": 467,
   "metadata": {},
   "outputs": [
    {
     "name": "stdout",
     "output_type": "stream",
     "text": [
      "Difference from the Best Client  0\n",
      "change value index to  4632\n",
      "change value spend_criteo_euro to  107523\n",
      "change value sales_criteo to  4485\n",
      "change value CPO to  24.0\n",
      "change value revenue_criteo_euro to  420841\n",
      "change value AOV to  94.0\n",
      "change value Android to  107523.0\n",
      "change value Mobile to  107523.0\n",
      "change value web to  107523.0\n",
      "change value conversion to  107523.0\n",
      "change value products to  3228.0\n",
      "change value onsite_sales to  10019.0\n",
      "change value onsite_revenue_euro to  27906488.35\n",
      "change value churn_date_pred to  2024.07\n",
      "change value duration to  7.039999999999964\n",
      "Difference from the Best Client  1\n",
      "change value index to  1326\n",
      "change value month to  12\n",
      "change value environment to  app\n",
      "change value criteo_product to  conversion\n",
      "change value spend_criteo_euro to  20\n",
      "change value sales_criteo to  12\n",
      "change value CPO to  2.0\n",
      "change value revenue_criteo_euro to  757\n",
      "change value AOV to  63.0\n",
      "change value Android to  20.0\n",
      "change value Mobile to  20.0\n",
      "change value app to  20.0\n",
      "change value web to  0.0\n",
      "change value consideration to  0.0\n",
      "change value conversion to  20.0\n",
      "change value products to  19019.0\n",
      "change value onsite_sales to  4.0\n",
      "change value onsite_revenue_euro to  127.96\n",
      "change value churn_date_pred to  2024.12\n",
      "change value duration to  6.0\n",
      "Difference from the Best Client  2\n",
      "change value index to  16023\n",
      "change value OS to  Android\n",
      "change value device to  Mobile\n",
      "change value environment to  app\n",
      "change value criteo_product to  consideration\n",
      "change value spend_criteo_euro to  12\n",
      "change value sales_criteo to  125\n",
      "change value CPO to  0.0\n",
      "change value revenue_criteo_euro to  13907\n",
      "change value AOV to  111.0\n",
      "change value Android to  12.0\n",
      "change value MacOS to  0.0\n",
      "change value Desktop to  0.0\n",
      "change value Mobile to  12.0\n",
      "change value app to  12.0\n",
      "change value web to  0.0\n",
      "change value consideration to  12.0\n",
      "change value conversion to  0.0\n",
      "change value products to  1808794.0\n",
      "change value onsite_sales to  3167.0\n",
      "change value onsite_revenue_euro to  44997.21\n",
      "change value churn_date_pred to  2024.05\n",
      "change value duration to  7.019999999999982\n",
      "Difference from the Best Client  3\n"
     ]
    }
   ],
   "source": [
    "indicate_changements(df_FRANCE_Apparel, average_clients_france, best_clients_france)"
   ]
  },
  {
   "cell_type": "code",
   "execution_count": 463,
   "metadata": {},
   "outputs": [
    {
     "name": "stdout",
     "output_type": "stream",
     "text": [
      "Difference from the Best Client  0\n",
      "change calue index to  12030\n",
      "change calue month to  8\n",
      "change calue spend_criteo_euro to  21196\n",
      "change calue sales_criteo to  1424\n",
      "change calue CPO to  15.0\n",
      "change calue revenue_criteo_euro to  8\n",
      "change calue AOV to  0.0\n",
      "change calue COS to  2717\n",
      "change calue Android to  21196.0\n",
      "change calue Mobile to  21196.0\n",
      "change calue web to  21196.0\n",
      "change calue conversion to  21196.0\n",
      "change calue products to  31859.0\n",
      "change calue onsite_sales to  136.0\n",
      "change calue onsite_revenue_euro to  121635.1\n",
      "change calue churn_date_pred to  2025.06\n",
      "change calue duration to  5.980000000000018\n",
      "Difference from the Best Client  1\n",
      "change calue index to  3749\n",
      "change calue spend_criteo_euro to  106166\n",
      "change calue sales_criteo to  7742\n",
      "change calue CPO to  14.0\n",
      "change calue revenue_criteo_euro to  481812\n",
      "change calue AOV to  62.0\n",
      "change calue Android to  106166.0\n",
      "change calue Mobile to  106166.0\n",
      "change calue web to  106166.0\n",
      "change calue conversion to  106166.0\n",
      "change calue products to  7915.0\n",
      "change calue onsite_sales to  827.0\n",
      "change calue onsite_revenue_euro to  3805.56\n",
      "change calue churn_date_pred to  2025.02\n",
      "change calue duration to  7.990000000000009\n",
      "Difference from the Best Client  2\n",
      "change calue index to  16026\n",
      "change calue month to  9\n",
      "change calue OS to  Android\n",
      "change calue device to  Mobile\n",
      "change calue environment to  app\n",
      "change calue criteo_product to  consideration\n",
      "change calue spend_criteo_euro to  8\n",
      "change calue sales_criteo to  4\n",
      "change calue CPO to  2.0\n",
      "change calue revenue_criteo_euro to  332\n",
      "change calue AOV to  83.0\n",
      "change calue COS to  0\n",
      "change calue Android to  8.0\n",
      "change calue MacOS to  0.0\n",
      "change calue Desktop to  0.0\n",
      "change calue Mobile to  8.0\n",
      "change calue app to  8.0\n",
      "change calue web to  0.0\n",
      "change calue consideration to  8.0\n",
      "change calue conversion to  0.0\n",
      "change calue products to  1372339.0\n",
      "change calue onsite_sales to  74.0\n",
      "change calue onsite_revenue_euro to  24152.54\n",
      "change calue churn_date_pred to  2024.07\n",
      "change calue duration to  6.980000000000018\n",
      "Difference from the Best Client  3\n",
      "change calue index to  6217\n",
      "change calue month to  12\n",
      "change calue spend_criteo_euro to  6396\n",
      "change calue sales_criteo to  4\n",
      "change calue CPO to  1599.0\n",
      "change calue revenue_criteo_euro to  581\n",
      "change calue AOV to  145.0\n",
      "change calue COS to  11\n",
      "change calue Android to  6396.0\n",
      "change calue Mobile to  6396.0\n",
      "change calue web to  6396.0\n",
      "change calue consideration to  6396.0\n",
      "change calue products to  3427.0\n",
      "change calue onsite_sales to  111263.0\n",
      "change calue onsite_revenue_euro to  7701518.21\n",
      "change calue churn_date_pred to  2026.03\n",
      "change calue duration to  6.910000000000082\n"
     ]
    }
   ],
   "source": [
    "indicate_changements(df_JAPAN_Apparel, average_clients_japan, best_clients_japan)"
   ]
  },
  {
   "cell_type": "code",
   "execution_count": 464,
   "metadata": {},
   "outputs": [
    {
     "name": "stdout",
     "output_type": "stream",
     "text": [
      "Difference from the Best Client  0\n",
      "change calue index to  10121\n",
      "change calue spend_criteo_euro to  149920\n",
      "change calue sales_criteo to  238\n",
      "change calue CPO to  630.0\n",
      "change calue revenue_criteo_euro to  237851\n",
      "change calue AOV to  999.0\n",
      "change calue Android to  149920.0\n",
      "change calue Mobile to  149920.0\n",
      "change calue web to  149920.0\n",
      "change calue conversion to  149920.0\n",
      "change calue products to  59918.0\n",
      "change calue onsite_sales to  199.0\n",
      "change calue onsite_revenue_euro to  14972.98\n",
      "change calue churn_date_pred to  2025.02\n",
      "change calue duration to  7.990000000000009\n",
      "Difference from the Best Client  1\n",
      "change calue index to  4913\n",
      "change calue month to  5\n",
      "change calue device to  Mobile\n",
      "change calue environment to  app\n",
      "change calue spend_criteo_euro to  3409\n",
      "change calue sales_criteo to  62\n",
      "change calue CPO to  55.0\n",
      "change calue revenue_criteo_euro to  30265\n",
      "change calue AOV to  488.0\n",
      "change calue Android to  3409.0\n",
      "change calue Desktop to  0.0\n",
      "change calue Mobile to  3409.0\n",
      "change calue app to  3409.0\n",
      "change calue web to  0.0\n",
      "change calue conversion to  3409.0\n",
      "change calue products to  3054.0\n",
      "change calue onsite_sales to  675.0\n",
      "change calue onsite_revenue_euro to  1462460.7\n",
      "change calue churn_date_pred to  2025.04\n",
      "change calue duration to  6.990000000000009\n",
      "Difference from the Best Client  2\n",
      "change calue index to  16038\n",
      "change calue month to  11\n",
      "change calue OS to  Android\n",
      "change calue device to  Mobile\n",
      "change calue environment to  app\n",
      "change calue criteo_product to  consideration\n",
      "change calue spend_criteo_euro to  2079\n",
      "change calue sales_criteo to  273\n",
      "change calue CPO to  8.0\n",
      "change calue revenue_criteo_euro to  18498\n",
      "change calue AOV to  68.0\n",
      "change calue COS to  0\n",
      "change calue Android to  2079.0\n",
      "change calue MacOS to  0.0\n",
      "change calue Desktop to  0.0\n",
      "change calue Mobile to  2079.0\n",
      "change calue app to  2079.0\n",
      "change calue web to  0.0\n",
      "change calue consideration to  2079.0\n",
      "change calue conversion to  0.0\n",
      "change calue products to  1511883.0\n",
      "change calue onsite_sales to  94.0\n",
      "change calue onsite_revenue_euro to  34115.29\n",
      "change calue churn_date_pred to  2024.1\n",
      "change calue duration to  6.990000000000009\n",
      "Difference from the Best Client  3\n",
      "change calue index to  406\n",
      "change calue month to  8\n",
      "change calue spend_criteo_euro to  43\n",
      "change calue CPO to  11.0\n",
      "change calue revenue_criteo_euro to  441\n",
      "change calue AOV to  110.0\n",
      "change calue Android to  43.0\n",
      "change calue Mobile to  43.0\n",
      "change calue web to  43.0\n",
      "change calue conversion to  43.0\n",
      "change calue products to  3478.0\n",
      "change calue onsite_sales to  325100.0\n",
      "change calue onsite_revenue_euro to  26425593.09\n",
      "change calue churn_date_pred to  2022.09\n",
      "change calue duration to  4.009999999999991\n",
      "Difference from the Best Client  4\n"
     ]
    }
   ],
   "source": [
    "indicate_changements(df_UNITED_STATES_Apparel, average_clients_us, best_clients_us)"
   ]
  },
  {
   "cell_type": "code",
   "execution_count": null,
   "metadata": {},
   "outputs": [],
   "source": []
  },
  {
   "cell_type": "code",
   "execution_count": null,
   "metadata": {},
   "outputs": [],
   "source": []
  }
 ],
 "metadata": {
  "kernelspec": {
   "display_name": "Python 3",
   "language": "python",
   "name": "python3"
  },
  "language_info": {
   "codemirror_mode": {
    "name": "ipython",
    "version": 3
   },
   "file_extension": ".py",
   "mimetype": "text/x-python",
   "name": "python",
   "nbconvert_exporter": "python",
   "pygments_lexer": "ipython3",
   "version": "3.7.4"
  }
 },
 "nbformat": 4,
 "nbformat_minor": 4
}
